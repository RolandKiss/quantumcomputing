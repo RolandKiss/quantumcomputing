{
 "cells": [
  {
   "cell_type": "code",
   "execution_count": 5,
   "id": "c6a1ad81-91ab-478b-96e4-dc13b8b2406a",
   "metadata": {},
   "outputs": [],
   "source": [
    "my_list=[10,20,30,40,50,60]"
   ]
  },
  {
   "cell_type": "code",
   "execution_count": 9,
   "id": "83481ccc-0f50-4790-bdd9-8b7c25b54e57",
   "metadata": {},
   "outputs": [
    {
     "name": "stdout",
     "output_type": "stream",
     "text": [
      "50\n",
      "100\n",
      "150\n",
      "200\n",
      "250\n",
      "300\n"
     ]
    }
   ],
   "source": [
    "for number in my_list:\n",
    "    print(number * 5)"
   ]
  },
  {
   "cell_type": "code",
   "execution_count": 13,
   "id": "674a2bc5-ed9d-455c-94ec-0dac86aa9b09",
   "metadata": {},
   "outputs": [
    {
     "name": "stdout",
     "output_type": "stream",
     "text": [
      "50\n",
      "100\n"
     ]
    }
   ],
   "source": [
    "for num in my_list:\n",
    "    if num == 30:\n",
    "        break\n",
    "    print(num * 5)"
   ]
  },
  {
   "cell_type": "code",
   "execution_count": 15,
   "id": "2fd254f6-891e-4ce6-8e36-610f2ea41be1",
   "metadata": {},
   "outputs": [
    {
     "name": "stdout",
     "output_type": "stream",
     "text": [
      "50\n",
      "100\n",
      "200\n",
      "250\n",
      "300\n"
     ]
    }
   ],
   "source": [
    "for item in my_list:\n",
    "    if item ==30:\n",
    "        continue\n",
    "    print(item *5)"
   ]
  },
  {
   "cell_type": "code",
   "execution_count": 19,
   "id": "f533ca1d-0296-456f-bd5f-2efb77390b2d",
   "metadata": {},
   "outputs": [],
   "source": [
    "for no in my_list:\n",
    "    pass"
   ]
  }
 ],
 "metadata": {
  "kernelspec": {
   "display_name": "Python [conda env:base] *",
   "language": "python",
   "name": "conda-base-py"
  },
  "language_info": {
   "codemirror_mode": {
    "name": "ipython",
    "version": 3
   },
   "file_extension": ".py",
   "mimetype": "text/x-python",
   "name": "python",
   "nbconvert_exporter": "python",
   "pygments_lexer": "ipython3",
   "version": "3.12.7"
  }
 },
 "nbformat": 4,
 "nbformat_minor": 5
}
