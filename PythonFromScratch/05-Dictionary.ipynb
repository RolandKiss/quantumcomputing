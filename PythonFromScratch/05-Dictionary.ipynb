{
 "cells": [
  {
   "cell_type": "code",
   "execution_count": 3,
   "id": "46aec371-b22d-4336-8d38-6adf31b79e24",
   "metadata": {},
   "outputs": [],
   "source": [
    "my_dictionary={\"key\":\"value\"}"
   ]
  },
  {
   "cell_type": "code",
   "execution_count": 4,
   "id": "f0dbcfe1-efd8-4d38-a304-02269a5ad7d0",
   "metadata": {},
   "outputs": [
    {
     "data": {
      "text/plain": [
       "'value'"
      ]
     },
     "execution_count": 4,
     "metadata": {},
     "output_type": "execute_result"
    }
   ],
   "source": [
    "my_dictionary['key']"
   ]
  },
  {
   "cell_type": "code",
   "execution_count": 5,
   "id": "f8fdc7fa-f07b-4821-9e6e-1c01ce0f37bd",
   "metadata": {},
   "outputs": [],
   "source": [
    "my_list=[100,200]"
   ]
  },
  {
   "cell_type": "code",
   "execution_count": 6,
   "id": "8800f71f-4456-4844-ac43-5ad0cb092ec4",
   "metadata": {},
   "outputs": [],
   "source": [
    "my_list2=['run','swim']"
   ]
  },
  {
   "cell_type": "code",
   "execution_count": 7,
   "id": "338d7afe-24ea-4bf3-b06f-0b4f0a73c1bd",
   "metadata": {},
   "outputs": [],
   "source": [
    "my_fitness_dictionary={'run':100,'swim':200}"
   ]
  },
  {
   "cell_type": "code",
   "execution_count": 8,
   "id": "a947ec36-66bf-495f-9f73-0148292882ff",
   "metadata": {},
   "outputs": [
    {
     "data": {
      "text/plain": [
       "100"
      ]
     },
     "execution_count": 8,
     "metadata": {},
     "output_type": "execute_result"
    }
   ],
   "source": [
    "my_fitness_dictionary['run']"
   ]
  },
  {
   "cell_type": "code",
   "execution_count": 9,
   "id": "965b4024-8309-4d56-9ced-f30c63f526b9",
   "metadata": {},
   "outputs": [
    {
     "data": {
      "text/plain": [
       "200"
      ]
     },
     "execution_count": 9,
     "metadata": {},
     "output_type": "execute_result"
    }
   ],
   "source": [
    "my_fitness_dictionary['swim']"
   ]
  },
  {
   "cell_type": "code",
   "execution_count": 10,
   "id": "d9dbf929-fb91-4f89-ae4a-4df7d35e50c4",
   "metadata": {},
   "outputs": [],
   "source": [
    "my_dictionary_2={'key1':1, 'key2':2, 'key3': 'apple'}"
   ]
  },
  {
   "cell_type": "code",
   "execution_count": 12,
   "id": "cb38ab4e-eaa0-4cc3-935b-057e717f0238",
   "metadata": {},
   "outputs": [
    {
     "data": {
      "text/plain": [
       "'apple'"
      ]
     },
     "execution_count": 12,
     "metadata": {},
     "output_type": "execute_result"
    }
   ],
   "source": [
    "my_dictionary_2['key3']"
   ]
  },
  {
   "cell_type": "code",
   "execution_count": 13,
   "id": "1c67fa62-287e-454b-a658-1fbd8895ef55",
   "metadata": {},
   "outputs": [],
   "source": [
    "my_dictionary_3={'key1':10, 20:30}"
   ]
  },
  {
   "cell_type": "code",
   "execution_count": 14,
   "id": "ecdca071-87a2-4fbf-afa6-3907e86a09f6",
   "metadata": {},
   "outputs": [
    {
     "data": {
      "text/plain": [
       "10"
      ]
     },
     "execution_count": 14,
     "metadata": {},
     "output_type": "execute_result"
    }
   ],
   "source": [
    "my_dictionary_3['key1']"
   ]
  },
  {
   "cell_type": "code",
   "execution_count": 15,
   "id": "4e84e187-a3bd-4946-8822-8d3df093d0ff",
   "metadata": {},
   "outputs": [
    {
     "data": {
      "text/plain": [
       "30"
      ]
     },
     "execution_count": 15,
     "metadata": {},
     "output_type": "execute_result"
    }
   ],
   "source": [
    "my_dictionary_3[20]"
   ]
  },
  {
   "cell_type": "code",
   "execution_count": 17,
   "id": "0d608e80-ba54-45ca-9cbc-a31051c7cc5b",
   "metadata": {},
   "outputs": [],
   "source": [
    "my_dictionary_4={\"key1\":100, \"key2\": [10,20,30], \"key3\": {\"a\":5}}"
   ]
  },
  {
   "cell_type": "code",
   "execution_count": 18,
   "id": "0d5442ed-3d01-43b7-9b8d-42b20ae21de4",
   "metadata": {},
   "outputs": [
    {
     "data": {
      "text/plain": [
       "{'key1': 100, 'key2': [10, 20, 30], 'key3': {'a': 5}}"
      ]
     },
     "execution_count": 18,
     "metadata": {},
     "output_type": "execute_result"
    }
   ],
   "source": [
    "my_dictionary_4"
   ]
  },
  {
   "cell_type": "code",
   "execution_count": 19,
   "id": "0df26290-4f00-4f8d-86dc-be7206aec4ad",
   "metadata": {},
   "outputs": [
    {
     "data": {
      "text/plain": [
       "dict_keys(['key1', 'key2', 'key3'])"
      ]
     },
     "execution_count": 19,
     "metadata": {},
     "output_type": "execute_result"
    }
   ],
   "source": [
    "my_dictionary_4.keys()"
   ]
  },
  {
   "cell_type": "code",
   "execution_count": 20,
   "id": "3bc4cfbf-76d1-4c5e-a734-90a0546ad617",
   "metadata": {},
   "outputs": [
    {
     "data": {
      "text/plain": [
       "dict_values([100, [10, 20, 30], {'a': 5}])"
      ]
     },
     "execution_count": 20,
     "metadata": {},
     "output_type": "execute_result"
    }
   ],
   "source": [
    "my_dictionary_4.values()"
   ]
  },
  {
   "cell_type": "code",
   "execution_count": 21,
   "id": "7c0d2d4c-5e63-4a1c-be41-aebd99e9c090",
   "metadata": {},
   "outputs": [
    {
     "data": {
      "text/plain": [
       "5"
      ]
     },
     "execution_count": 21,
     "metadata": {},
     "output_type": "execute_result"
    }
   ],
   "source": [
    "my_dictionary_4['key3']['a']"
   ]
  },
  {
   "cell_type": "code",
   "execution_count": 22,
   "id": "d1318dba-5f21-4714-a184-5a96a9036348",
   "metadata": {},
   "outputs": [],
   "source": [
    "my_dictionary_5={'k1':1,'k2':2}"
   ]
  },
  {
   "cell_type": "code",
   "execution_count": 23,
   "id": "0cde6261-83d3-4f53-af1d-4be16e90dce7",
   "metadata": {},
   "outputs": [
    {
     "data": {
      "text/plain": [
       "{'k1': 1, 'k2': 2}"
      ]
     },
     "execution_count": 23,
     "metadata": {},
     "output_type": "execute_result"
    }
   ],
   "source": [
    "my_dictionary_5"
   ]
  },
  {
   "cell_type": "code",
   "execution_count": 24,
   "id": "253bba12-30a2-4c66-bc8e-1ad9b91e4f9c",
   "metadata": {},
   "outputs": [],
   "source": [
    "my_dictionary_5['k3']=7"
   ]
  },
  {
   "cell_type": "code",
   "execution_count": 25,
   "id": "91fefcfc-3d9c-4d4b-b1cd-c1c9dd1bce95",
   "metadata": {},
   "outputs": [
    {
     "data": {
      "text/plain": [
       "{'k1': 1, 'k2': 2, 'k3': 7}"
      ]
     },
     "execution_count": 25,
     "metadata": {},
     "output_type": "execute_result"
    }
   ],
   "source": [
    "my_dictionary_5"
   ]
  }
 ],
 "metadata": {
  "kernelspec": {
   "display_name": "Python 3 (ipykernel)",
   "language": "python",
   "name": "python3"
  },
  "language_info": {
   "codemirror_mode": {
    "name": "ipython",
    "version": 3
   },
   "file_extension": ".py",
   "mimetype": "text/x-python",
   "name": "python",
   "nbconvert_exporter": "python",
   "pygments_lexer": "ipython3",
   "version": "3.12.7"
  }
 },
 "nbformat": 4,
 "nbformat_minor": 5
}
