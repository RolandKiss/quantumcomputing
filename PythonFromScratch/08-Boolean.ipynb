{
 "cells": [
  {
   "cell_type": "code",
   "execution_count": 1,
   "id": "ede3cb8c-05db-448c-8b3d-92bfb7daf634",
   "metadata": {},
   "outputs": [
    {
     "data": {
      "text/plain": [
       "True"
      ]
     },
     "execution_count": 1,
     "metadata": {},
     "output_type": "execute_result"
    }
   ],
   "source": [
    "True"
   ]
  },
  {
   "cell_type": "code",
   "execution_count": 2,
   "id": "f9d62d5e-5544-452d-aaa8-ede0983d04e2",
   "metadata": {},
   "outputs": [
    {
     "data": {
      "text/plain": [
       "False"
      ]
     },
     "execution_count": 2,
     "metadata": {},
     "output_type": "execute_result"
    }
   ],
   "source": [
    "False"
   ]
  },
  {
   "cell_type": "code",
   "execution_count": 3,
   "id": "471b3164-4bab-4bc5-a90f-040d721f4002",
   "metadata": {},
   "outputs": [],
   "source": [
    "my_boolean=True"
   ]
  },
  {
   "cell_type": "code",
   "execution_count": 4,
   "id": "6870ccff-48f6-4852-9dab-a6624e4a5abc",
   "metadata": {},
   "outputs": [
    {
     "data": {
      "text/plain": [
       "True"
      ]
     },
     "execution_count": 4,
     "metadata": {},
     "output_type": "execute_result"
    }
   ],
   "source": [
    "my_boolean"
   ]
  },
  {
   "cell_type": "code",
   "execution_count": 5,
   "id": "ac6dbb39-49d8-47f5-9671-a2fccdafb7a6",
   "metadata": {},
   "outputs": [],
   "source": [
    "is_dead=False"
   ]
  },
  {
   "cell_type": "code",
   "execution_count": 6,
   "id": "c154c8bf-09e8-4883-ba56-5ac09e316c13",
   "metadata": {},
   "outputs": [
    {
     "data": {
      "text/plain": [
       "True"
      ]
     },
     "execution_count": 6,
     "metadata": {},
     "output_type": "execute_result"
    }
   ],
   "source": [
    "5>3"
   ]
  },
  {
   "cell_type": "code",
   "execution_count": 7,
   "id": "e83b5b07-35ed-4397-ae31-228a48cfdee9",
   "metadata": {},
   "outputs": [
    {
     "data": {
      "text/plain": [
       "False"
      ]
     },
     "execution_count": 7,
     "metadata": {},
     "output_type": "execute_result"
    }
   ],
   "source": [
    "3>5"
   ]
  },
  {
   "cell_type": "code",
   "execution_count": 10,
   "id": "1bdab2b6-fb19-43ab-a546-d06a0511716b",
   "metadata": {},
   "outputs": [
    {
     "name": "stdin",
     "output_type": "stream",
     "text": [
      "Please declare a value for y:  5\n"
     ]
    }
   ],
   "source": [
    "y=input(\"Please declare a value for y: \")"
   ]
  },
  {
   "cell_type": "code",
   "execution_count": 11,
   "id": "aff79a2b-fa03-44b9-9ed7-0c0c5f80071d",
   "metadata": {},
   "outputs": [
    {
     "data": {
      "text/plain": [
       "str"
      ]
     },
     "execution_count": 11,
     "metadata": {},
     "output_type": "execute_result"
    }
   ],
   "source": [
    "type(y)"
   ]
  },
  {
   "cell_type": "code",
   "execution_count": 12,
   "id": "541365d8-4188-496b-8002-b5f09004586a",
   "metadata": {},
   "outputs": [],
   "source": [
    "y_int=int(y)"
   ]
  },
  {
   "cell_type": "code",
   "execution_count": 13,
   "id": "f6599aab-fb19-46e3-abb6-0422a9bc216f",
   "metadata": {},
   "outputs": [],
   "source": [
    "x=5\n"
   ]
  },
  {
   "cell_type": "code",
   "execution_count": 14,
   "id": "10bb4b5e-7de1-44e4-bfb6-d0d4564a84f8",
   "metadata": {},
   "outputs": [
    {
     "data": {
      "text/plain": [
       "False"
      ]
     },
     "execution_count": 14,
     "metadata": {},
     "output_type": "execute_result"
    }
   ],
   "source": [
    "y_int>x"
   ]
  }
 ],
 "metadata": {
  "kernelspec": {
   "display_name": "Python 3 (ipykernel)",
   "language": "python",
   "name": "python3"
  },
  "language_info": {
   "codemirror_mode": {
    "name": "ipython",
    "version": 3
   },
   "file_extension": ".py",
   "mimetype": "text/x-python",
   "name": "python",
   "nbconvert_exporter": "python",
   "pygments_lexer": "ipython3",
   "version": "3.12.7"
  }
 },
 "nbformat": 4,
 "nbformat_minor": 5
}
