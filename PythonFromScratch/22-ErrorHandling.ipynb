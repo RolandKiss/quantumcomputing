{
 "cells": [
  {
   "cell_type": "code",
   "execution_count": 1,
   "id": "27b1caae-12b9-411a-b234-d0939c0b9b6b",
   "metadata": {},
   "outputs": [],
   "source": [
    "def summation(num1,num2):\n",
    "    return num1+num2"
   ]
  },
  {
   "cell_type": "code",
   "execution_count": 2,
   "id": "a885aff4-554e-46a2-a8b9-da4a27018e12",
   "metadata": {},
   "outputs": [
    {
     "data": {
      "text/plain": [
       "8"
      ]
     },
     "execution_count": 2,
     "metadata": {},
     "output_type": "execute_result"
    }
   ],
   "source": [
    "summation(3,5)"
   ]
  },
  {
   "cell_type": "code",
   "execution_count": 3,
   "id": "f2b72b1e-bd01-48bd-a7a9-f2c679e4072e",
   "metadata": {},
   "outputs": [
    {
     "ename": "KeyboardInterrupt",
     "evalue": "Interrupted by user",
     "output_type": "error",
     "traceback": [
      "\u001b[1;31m---------------------------------------------------------------------------\u001b[0m",
      "\u001b[1;31mKeyboardInterrupt\u001b[0m                         Traceback (most recent call last)",
      "Cell \u001b[1;32mIn[3], line 1\u001b[0m\n\u001b[1;32m----> 1\u001b[0m x\u001b[38;5;241m=\u001b[39m\u001b[38;5;28minput\u001b[39m(\u001b[38;5;124m\"\u001b[39m\u001b[38;5;124mEnter number:\u001b[39m\u001b[38;5;124m\"\u001b[39m)\n",
      "File \u001b[1;32m~\\anaconda3\\Lib\\site-packages\\ipykernel\\kernelbase.py:1262\u001b[0m, in \u001b[0;36mKernel.raw_input\u001b[1;34m(self, prompt)\u001b[0m\n\u001b[0;32m   1260\u001b[0m     msg \u001b[38;5;241m=\u001b[39m \u001b[38;5;124m\"\u001b[39m\u001b[38;5;124mraw_input was called, but this frontend does not support input requests.\u001b[39m\u001b[38;5;124m\"\u001b[39m\n\u001b[0;32m   1261\u001b[0m     \u001b[38;5;28;01mraise\u001b[39;00m StdinNotImplementedError(msg)\n\u001b[1;32m-> 1262\u001b[0m \u001b[38;5;28;01mreturn\u001b[39;00m \u001b[38;5;28mself\u001b[39m\u001b[38;5;241m.\u001b[39m_input_request(\n\u001b[0;32m   1263\u001b[0m     \u001b[38;5;28mstr\u001b[39m(prompt),\n\u001b[0;32m   1264\u001b[0m     \u001b[38;5;28mself\u001b[39m\u001b[38;5;241m.\u001b[39m_parent_ident[\u001b[38;5;124m\"\u001b[39m\u001b[38;5;124mshell\u001b[39m\u001b[38;5;124m\"\u001b[39m],\n\u001b[0;32m   1265\u001b[0m     \u001b[38;5;28mself\u001b[39m\u001b[38;5;241m.\u001b[39mget_parent(\u001b[38;5;124m\"\u001b[39m\u001b[38;5;124mshell\u001b[39m\u001b[38;5;124m\"\u001b[39m),\n\u001b[0;32m   1266\u001b[0m     password\u001b[38;5;241m=\u001b[39m\u001b[38;5;28;01mFalse\u001b[39;00m,\n\u001b[0;32m   1267\u001b[0m )\n",
      "File \u001b[1;32m~\\anaconda3\\Lib\\site-packages\\ipykernel\\kernelbase.py:1305\u001b[0m, in \u001b[0;36mKernel._input_request\u001b[1;34m(self, prompt, ident, parent, password)\u001b[0m\n\u001b[0;32m   1302\u001b[0m \u001b[38;5;28;01mexcept\u001b[39;00m \u001b[38;5;167;01mKeyboardInterrupt\u001b[39;00m:\n\u001b[0;32m   1303\u001b[0m     \u001b[38;5;66;03m# re-raise KeyboardInterrupt, to truncate traceback\u001b[39;00m\n\u001b[0;32m   1304\u001b[0m     msg \u001b[38;5;241m=\u001b[39m \u001b[38;5;124m\"\u001b[39m\u001b[38;5;124mInterrupted by user\u001b[39m\u001b[38;5;124m\"\u001b[39m\n\u001b[1;32m-> 1305\u001b[0m     \u001b[38;5;28;01mraise\u001b[39;00m \u001b[38;5;167;01mKeyboardInterrupt\u001b[39;00m(msg) \u001b[38;5;28;01mfrom\u001b[39;00m \u001b[38;5;28;01mNone\u001b[39;00m\n\u001b[0;32m   1306\u001b[0m \u001b[38;5;28;01mexcept\u001b[39;00m \u001b[38;5;167;01mException\u001b[39;00m:\n\u001b[0;32m   1307\u001b[0m     \u001b[38;5;28mself\u001b[39m\u001b[38;5;241m.\u001b[39mlog\u001b[38;5;241m.\u001b[39mwarning(\u001b[38;5;124m\"\u001b[39m\u001b[38;5;124mInvalid Message:\u001b[39m\u001b[38;5;124m\"\u001b[39m, exc_info\u001b[38;5;241m=\u001b[39m\u001b[38;5;28;01mTrue\u001b[39;00m)\n",
      "\u001b[1;31mKeyboardInterrupt\u001b[0m: Interrupted by user"
     ]
    }
   ],
   "source": [
    "x=input(\"Enter number:\")"
   ]
  },
  {
   "cell_type": "code",
   "execution_count": null,
   "id": "b944fa89-7ed5-478f-9c01-d42d2267c263",
   "metadata": {},
   "outputs": [],
   "source": [
    "y=input(\"Enter number:\")"
   ]
  },
  {
   "cell_type": "code",
   "execution_count": null,
   "id": "a6768566-2cc7-4af5-bdb2-aee712e27884",
   "metadata": {},
   "outputs": [],
   "source": [
    "x_int=int(x)"
   ]
  },
  {
   "cell_type": "code",
   "execution_count": null,
   "id": "4bf826a9-52f4-4594-93b5-6ff76d96f1cf",
   "metadata": {},
   "outputs": [],
   "source": [
    "y_int=int(y)"
   ]
  },
  {
   "cell_type": "code",
   "execution_count": null,
   "id": "c47730b5-a335-491a-bcba-a220f6a40f34",
   "metadata": {},
   "outputs": [],
   "source": [
    "summation(x_int,y_int)"
   ]
  },
  {
   "cell_type": "code",
   "execution_count": null,
   "id": "c6d1fb8f-30ef-4c03-b685-96811c0452ff",
   "metadata": {},
   "outputs": [],
   "source": [
    "def numberpower(num):\n",
    "    return num ** num"
   ]
  },
  {
   "cell_type": "code",
   "execution_count": null,
   "id": "2525c91d-ffba-4f40-b346-e421fc2eaa2c",
   "metadata": {},
   "outputs": [],
   "source": [
    "numberpower(2)"
   ]
  },
  {
   "cell_type": "markdown",
   "id": "286af0d6-1df2-42dc-9cf4-ea1166d22980",
   "metadata": {},
   "source": [
    "# try, except, finally"
   ]
  },
  {
   "cell_type": "code",
   "execution_count": 3,
   "id": "d03a7681-2ae8-4611-86be-f548d7476097",
   "metadata": {},
   "outputs": [
    {
     "name": "stdin",
     "output_type": "stream",
     "text": [
      "Enter a number:  James\n"
     ]
    },
    {
     "name": "stdout",
     "output_type": "stream",
     "text": [
      "Enter a number!\n",
      "Finally\n"
     ]
    },
    {
     "name": "stdin",
     "output_type": "stream",
     "text": [
      "Enter a number:  ROland\n"
     ]
    },
    {
     "name": "stdout",
     "output_type": "stream",
     "text": [
      "Enter a number!\n",
      "Finally\n"
     ]
    },
    {
     "name": "stdin",
     "output_type": "stream",
     "text": [
      "Enter a number:  10\n"
     ]
    },
    {
     "name": "stdout",
     "output_type": "stream",
     "text": [
      "OK\n",
      "Finally\n"
     ]
    }
   ],
   "source": [
    "while True:\n",
    "    try: \n",
    "        a=int(input(\"Enter a number: \"))\n",
    "    except:\n",
    "        print(\"Enter a number!\")\n",
    "        continue\n",
    "    else:\n",
    "        print(\"OK\")\n",
    "        break\n",
    "    finally:\n",
    "        print(\"Finally\")"
   ]
  }
 ],
 "metadata": {
  "kernelspec": {
   "display_name": "Python [conda env:base] *",
   "language": "python",
   "name": "conda-base-py"
  },
  "language_info": {
   "codemirror_mode": {
    "name": "ipython",
    "version": 3
   },
   "file_extension": ".py",
   "mimetype": "text/x-python",
   "name": "python",
   "nbconvert_exporter": "python",
   "pygments_lexer": "ipython3",
   "version": "3.12.7"
  }
 },
 "nbformat": 4,
 "nbformat_minor": 5
}
