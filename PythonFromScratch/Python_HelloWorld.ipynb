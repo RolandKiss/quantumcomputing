{
 "cells": [
  {
   "cell_type": "code",
   "execution_count": 1,
   "id": "3477c511-9a39-4b28-a4f5-5d1e3b37342a",
   "metadata": {},
   "outputs": [
    {
     "name": "stdout",
     "output_type": "stream",
     "text": [
      "HEllo World\n"
     ]
    }
   ],
   "source": [
    "print('HEllo World')"
   ]
  },
  {
   "cell_type": "markdown",
   "id": "e7e32695-cadb-49bc-a093-7012801eef80",
   "metadata": {},
   "source": [
    "note: hello world tutorial"
   ]
  },
  {
   "cell_type": "code",
   "execution_count": 2,
   "id": "be6f5f60-06f7-483f-81d9-fd346e4bc3b2",
   "metadata": {},
   "outputs": [
    {
     "name": "stdout",
     "output_type": "stream",
     "text": [
      "Hello 2\n"
     ]
    }
   ],
   "source": [
    "print('Hello 2')"
   ]
  },
  {
   "cell_type": "code",
   "execution_count": 3,
   "id": "95f65e65-1d9b-4df3-a64a-7c3698525392",
   "metadata": {},
   "outputs": [
    {
     "name": "stdout",
     "output_type": "stream",
     "text": [
      "James\n"
     ]
    }
   ],
   "source": [
    "print('James')"
   ]
  }
 ],
 "metadata": {
  "kernelspec": {
   "display_name": "Python 3 (ipykernel)",
   "language": "python",
   "name": "python3"
  },
  "language_info": {
   "codemirror_mode": {
    "name": "ipython",
    "version": 3
   },
   "file_extension": ".py",
   "mimetype": "text/x-python",
   "name": "python",
   "nbconvert_exporter": "python",
   "pygments_lexer": "ipython3",
   "version": "3.12.7"
  }
 },
 "nbformat": 4,
 "nbformat_minor": 5
}
