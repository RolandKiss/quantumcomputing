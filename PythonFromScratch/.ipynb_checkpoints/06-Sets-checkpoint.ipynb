{
 "cells": [
  {
   "cell_type": "code",
   "execution_count": 1,
   "id": "ae0653a3-210e-433a-bf38-a7498689475d",
   "metadata": {},
   "outputs": [],
   "source": [
    "my_list=[1,2,3,1]"
   ]
  },
  {
   "cell_type": "code",
   "execution_count": 2,
   "id": "3f574125-00ec-4fc7-8cb9-54dfc6043802",
   "metadata": {},
   "outputs": [
    {
     "data": {
      "text/plain": [
       "[1, 2, 3, 1]"
      ]
     },
     "execution_count": 2,
     "metadata": {},
     "output_type": "execute_result"
    }
   ],
   "source": [
    "my_list"
   ]
  },
  {
   "cell_type": "markdown",
   "id": "0901811e-d3ae-4701-a524-a808a142731a",
   "metadata": {},
   "source": [
    "## casting"
   ]
  },
  {
   "cell_type": "code",
   "execution_count": 3,
   "id": "e7194751-c29e-4029-b9f8-b59039a1c1f2",
   "metadata": {},
   "outputs": [],
   "source": [
    "my_set=set(my_list)"
   ]
  },
  {
   "cell_type": "code",
   "execution_count": 4,
   "id": "b3b64e90-3e62-4b45-bb83-5fda99c9fc54",
   "metadata": {},
   "outputs": [
    {
     "data": {
      "text/plain": [
       "{1, 2, 3}"
      ]
     },
     "execution_count": 4,
     "metadata": {},
     "output_type": "execute_result"
    }
   ],
   "source": [
    "my_set"
   ]
  },
  {
   "cell_type": "code",
   "execution_count": 5,
   "id": "a92bb319-bc1f-41fa-9deb-39233c0b16cf",
   "metadata": {},
   "outputs": [],
   "source": [
    "my_set2={1,2,3,1}"
   ]
  },
  {
   "cell_type": "code",
   "execution_count": 7,
   "id": "58ea1231-4eee-428e-bd42-e01d654093fb",
   "metadata": {},
   "outputs": [
    {
     "data": {
      "text/plain": [
       "{1, 2, 3}"
      ]
     },
     "execution_count": 7,
     "metadata": {},
     "output_type": "execute_result"
    }
   ],
   "source": [
    "my_set2"
   ]
  },
  {
   "cell_type": "code",
   "execution_count": 8,
   "id": "e3802b78-b12c-464d-868d-a53ed459abca",
   "metadata": {},
   "outputs": [
    {
     "data": {
      "text/plain": [
       "set"
      ]
     },
     "execution_count": 8,
     "metadata": {},
     "output_type": "execute_result"
    }
   ],
   "source": [
    "type(my_set2)"
   ]
  },
  {
   "cell_type": "code",
   "execution_count": 9,
   "id": "344fa218-628f-4bdf-86d4-d1a2bd88915c",
   "metadata": {},
   "outputs": [],
   "source": [
    "my_set3={\"a\",\"b\",\"a\"}"
   ]
  },
  {
   "cell_type": "code",
   "execution_count": 10,
   "id": "1c3c42be-8819-471e-91e5-2c89a55fc20b",
   "metadata": {},
   "outputs": [
    {
     "data": {
      "text/plain": [
       "{'a', 'b'}"
      ]
     },
     "execution_count": 10,
     "metadata": {},
     "output_type": "execute_result"
    }
   ],
   "source": [
    "my_set3"
   ]
  },
  {
   "cell_type": "code",
   "execution_count": 11,
   "id": "839056a0-3b2a-4d8f-a588-67b0485fac98",
   "metadata": {},
   "outputs": [
    {
     "data": {
      "text/plain": [
       "list"
      ]
     },
     "execution_count": 11,
     "metadata": {},
     "output_type": "execute_result"
    }
   ],
   "source": [
    "type(my_list)"
   ]
  },
  {
   "cell_type": "code",
   "execution_count": 13,
   "id": "04778b13-d405-496f-b0dd-83e330a040fe",
   "metadata": {},
   "outputs": [],
   "source": [
    "my_list2=[]"
   ]
  },
  {
   "cell_type": "code",
   "execution_count": 14,
   "id": "a32f3dec-55a2-4ff8-b70e-d0aa4929de5f",
   "metadata": {},
   "outputs": [],
   "source": [
    "my_set4={}"
   ]
  },
  {
   "cell_type": "code",
   "execution_count": 15,
   "id": "f4307b4a-3c9f-4592-a20a-7f103aa83706",
   "metadata": {},
   "outputs": [
    {
     "data": {
      "text/plain": [
       "dict"
      ]
     },
     "execution_count": 15,
     "metadata": {},
     "output_type": "execute_result"
    }
   ],
   "source": [
    "type(my_set4)"
   ]
  },
  {
   "cell_type": "code",
   "execution_count": 16,
   "id": "8088e96f-aa7e-4cbb-9a0e-f4c5454c54fb",
   "metadata": {},
   "outputs": [],
   "source": [
    "my_set5=set()"
   ]
  },
  {
   "cell_type": "code",
   "execution_count": 17,
   "id": "a6e90e23-2db8-4ea0-8f21-9a425aebdfbe",
   "metadata": {},
   "outputs": [
    {
     "data": {
      "text/plain": [
       "set"
      ]
     },
     "execution_count": 17,
     "metadata": {},
     "output_type": "execute_result"
    }
   ],
   "source": [
    "type(my_set5)"
   ]
  },
  {
   "cell_type": "code",
   "execution_count": 18,
   "id": "056b7f70-51e9-46c9-afb6-43b19b42347a",
   "metadata": {},
   "outputs": [],
   "source": [
    "my_set5.add(2)"
   ]
  },
  {
   "cell_type": "code",
   "execution_count": 19,
   "id": "94fc0bac-4439-44d6-8425-5219d4b171a1",
   "metadata": {},
   "outputs": [
    {
     "data": {
      "text/plain": [
       "{2}"
      ]
     },
     "execution_count": 19,
     "metadata": {},
     "output_type": "execute_result"
    }
   ],
   "source": [
    "my_set5"
   ]
  },
  {
   "cell_type": "code",
   "execution_count": 20,
   "id": "3fcc8210-0d8d-4879-9385-5eb0cba04238",
   "metadata": {},
   "outputs": [],
   "source": [
    "my_dictionary2=dict()"
   ]
  },
  {
   "cell_type": "code",
   "execution_count": 22,
   "id": "62aa763c-7220-4952-a0c1-30434e11fb5e",
   "metadata": {},
   "outputs": [
    {
     "data": {
      "text/plain": [
       "dict"
      ]
     },
     "execution_count": 22,
     "metadata": {},
     "output_type": "execute_result"
    }
   ],
   "source": [
    "type(my_dictionary2)"
   ]
  }
 ],
 "metadata": {
  "kernelspec": {
   "display_name": "Python 3 (ipykernel)",
   "language": "python",
   "name": "python3"
  },
  "language_info": {
   "codemirror_mode": {
    "name": "ipython",
    "version": 3
   },
   "file_extension": ".py",
   "mimetype": "text/x-python",
   "name": "python",
   "nbconvert_exporter": "python",
   "pygments_lexer": "ipython3",
   "version": "3.12.7"
  }
 },
 "nbformat": 4,
 "nbformat_minor": 5
}
