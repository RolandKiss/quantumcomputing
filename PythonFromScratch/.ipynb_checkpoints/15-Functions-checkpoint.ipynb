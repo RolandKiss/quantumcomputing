{
 "cells": [
  {
   "cell_type": "code",
   "execution_count": 1,
   "id": "e7ac9fb7-25c1-48c0-8bf5-ebe37f9ca332",
   "metadata": {},
   "outputs": [],
   "source": [
    "my_string=\"Roland\""
   ]
  },
  {
   "cell_type": "code",
   "execution_count": 2,
   "id": "19dcbe5f-bd07-4749-ab8d-0021e0ff622d",
   "metadata": {},
   "outputs": [
    {
     "data": {
      "text/plain": [
       "'ROLAND'"
      ]
     },
     "execution_count": 2,
     "metadata": {},
     "output_type": "execute_result"
    }
   ],
   "source": [
    "my_string.upper()"
   ]
  },
  {
   "cell_type": "code",
   "execution_count": 3,
   "id": "513a6cf2-99fb-4585-9412-9e59701bb001",
   "metadata": {},
   "outputs": [
    {
     "data": {
      "text/plain": [
       "'Roland'"
      ]
     },
     "execution_count": 3,
     "metadata": {},
     "output_type": "execute_result"
    }
   ],
   "source": [
    "my_string"
   ]
  },
  {
   "cell_type": "code",
   "execution_count": 4,
   "id": "5185c28e-0823-4d17-9aa8-579062c350a1",
   "metadata": {},
   "outputs": [],
   "source": [
    "my_string_upper=my_string.upper()"
   ]
  },
  {
   "cell_type": "code",
   "execution_count": 5,
   "id": "6f08838d-2821-45b5-b794-393c8870f57c",
   "metadata": {},
   "outputs": [
    {
     "data": {
      "text/plain": [
       "'ROLAND'"
      ]
     },
     "execution_count": 5,
     "metadata": {},
     "output_type": "execute_result"
    }
   ],
   "source": [
    "my_string_upper"
   ]
  },
  {
   "cell_type": "code",
   "execution_count": 6,
   "id": "a4592dfa-a53b-4e47-aa89-f18005db16b7",
   "metadata": {},
   "outputs": [
    {
     "name": "stdout",
     "output_type": "stream",
     "text": [
      "Help on built-in function split:\n",
      "\n",
      "split(sep=None, maxsplit=-1) method of builtins.str instance\n",
      "    Return a list of the substrings in the string, using sep as the separator string.\n",
      "\n",
      "      sep\n",
      "        The separator used to split the string.\n",
      "\n",
      "        When set to None (the default value), will split on any whitespace\n",
      "        character (including \\n \\r \\t \\f and spaces) and will discard\n",
      "        empty strings from the result.\n",
      "      maxsplit\n",
      "        Maximum number of splits.\n",
      "        -1 (the default value) means no limit.\n",
      "\n",
      "    Splitting starts at the front of the string and works to the end.\n",
      "\n",
      "    Note, str.split() is mainly useful for data that has been intentionally\n",
      "    delimited.  With natural text that includes punctuation, consider using\n",
      "    the regular expression module.\n",
      "\n"
     ]
    }
   ],
   "source": [
    "help(my_string.split)"
   ]
  },
  {
   "cell_type": "code",
   "execution_count": 7,
   "id": "bfd91ee1-c953-497b-a72e-c8b99c540e3e",
   "metadata": {},
   "outputs": [],
   "source": [
    "def hello_world():\n",
    "    print(\"hello\")\n",
    "    print(\"world\")"
   ]
  },
  {
   "cell_type": "code",
   "execution_count": 8,
   "id": "05916656-a87c-4db6-9e15-9c64ee6d43e9",
   "metadata": {},
   "outputs": [
    {
     "name": "stdout",
     "output_type": "stream",
     "text": [
      "hello\n",
      "world\n"
     ]
    }
   ],
   "source": [
    "hello_world()"
   ]
  },
  {
   "cell_type": "markdown",
   "id": "991065aa-d4df-43aa-ad3e-ed146d925558",
   "metadata": {},
   "source": [
    "## Input output"
   ]
  },
  {
   "cell_type": "code",
   "execution_count": 10,
   "id": "f1185ec4-3ac2-4d3f-9bfd-5b9269b58dad",
   "metadata": {},
   "outputs": [],
   "source": [
    "def hello_programming(name):\n",
    "    print(\"hello\")\n",
    "    print(name)"
   ]
  },
  {
   "cell_type": "code",
   "execution_count": 11,
   "id": "322f0198-bb60-402d-92b8-1ec8fbc4d948",
   "metadata": {},
   "outputs": [
    {
     "name": "stdout",
     "output_type": "stream",
     "text": [
      "hello\n",
      "Pyhton\n"
     ]
    }
   ],
   "source": [
    "hello_programming('Pyhton')"
   ]
  },
  {
   "cell_type": "code",
   "execution_count": 12,
   "id": "b5e7778c-2a5b-473f-b303-83c44ea706e6",
   "metadata": {},
   "outputs": [
    {
     "name": "stdout",
     "output_type": "stream",
     "text": [
      "hello\n",
      "Java\n"
     ]
    }
   ],
   "source": [
    "hello_programming('Java')"
   ]
  },
  {
   "cell_type": "code",
   "execution_count": 13,
   "id": "207373ca-2a20-46c3-9767-bc4c6def6ff9",
   "metadata": {},
   "outputs": [],
   "source": [
    "def hello_program(name='python'):\n",
    "    print(\"hello\")\n",
    "    print(name)"
   ]
  },
  {
   "cell_type": "code",
   "execution_count": 14,
   "id": "a7c31c4d-5a82-45e7-a23d-a192dcf25ac7",
   "metadata": {},
   "outputs": [],
   "source": [
    "def summ(number1, number2):\n",
    "    number3=number1+number2\n",
    "    print(number3)"
   ]
  },
  {
   "cell_type": "code",
   "execution_count": 15,
   "id": "d4737c21-dfae-4a48-baa5-ed01c49bcc66",
   "metadata": {},
   "outputs": [
    {
     "name": "stdout",
     "output_type": "stream",
     "text": [
      "13\n"
     ]
    }
   ],
   "source": [
    "summ(5,8)"
   ]
  },
  {
   "cell_type": "code",
   "execution_count": 16,
   "id": "c5fb6a53-eb43-4648-832d-f690963ade16",
   "metadata": {},
   "outputs": [
    {
     "name": "stdout",
     "output_type": "stream",
     "text": [
      "490\n"
     ]
    }
   ],
   "source": [
    "summ(-10,500)"
   ]
  },
  {
   "cell_type": "code",
   "execution_count": 17,
   "id": "b5583f95-a7a0-4e9d-a363-bcf9a81091ac",
   "metadata": {},
   "outputs": [],
   "source": [
    "def summation(num1, num2, num3):\n",
    "    return num1+num2+num3"
   ]
  },
  {
   "cell_type": "code",
   "execution_count": 18,
   "id": "8e61ed8e-df53-47d4-a76c-1a3c04abd657",
   "metadata": {},
   "outputs": [
    {
     "data": {
      "text/plain": [
       "60"
      ]
     },
     "execution_count": 18,
     "metadata": {},
     "output_type": "execute_result"
    }
   ],
   "source": [
    "summation(10,20,30)"
   ]
  },
  {
   "cell_type": "code",
   "execution_count": 19,
   "id": "5062e28a-b8c1-47ac-87bb-a57ffc401b6f",
   "metadata": {},
   "outputs": [],
   "source": [
    "my_result=summation(10,20,30)"
   ]
  },
  {
   "cell_type": "code",
   "execution_count": 20,
   "id": "5f3bc471-bdf7-42d2-ac99-183e3f323982",
   "metadata": {},
   "outputs": [
    {
     "data": {
      "text/plain": [
       "60"
      ]
     },
     "execution_count": 20,
     "metadata": {},
     "output_type": "execute_result"
    }
   ],
   "source": [
    "my_result"
   ]
  },
  {
   "cell_type": "code",
   "execution_count": 21,
   "id": "0aceee5f-fe1a-4998-adb0-eefa912dd838",
   "metadata": {},
   "outputs": [],
   "source": [
    "def control_string(s):\n",
    "    if s[0]==\"m\":\n",
    "        print('mm')"
   ]
  },
  {
   "cell_type": "code",
   "execution_count": 22,
   "id": "4db2f6fa-fb26-4538-a455-49163859f7d3",
   "metadata": {},
   "outputs": [],
   "source": [
    "control_string('paris')"
   ]
  },
  {
   "cell_type": "code",
   "execution_count": 23,
   "id": "44435e72-50ad-4252-9916-f2c6c8d34c6e",
   "metadata": {},
   "outputs": [
    {
     "name": "stdout",
     "output_type": "stream",
     "text": [
      "mm\n"
     ]
    }
   ],
   "source": [
    "control_string('metallica')"
   ]
  },
  {
   "cell_type": "markdown",
   "id": "160b4365-57e7-42b1-b2d0-e76703221b6f",
   "metadata": {},
   "source": [
    "## arbitrary arguments & key word arguments"
   ]
  },
  {
   "cell_type": "code",
   "execution_count": 25,
   "id": "a04d415d-813e-4469-bfd1-546bbcbe5937",
   "metadata": {},
   "outputs": [],
   "source": [
    "def summation_2(*args):\n",
    "    return sum(args)"
   ]
  },
  {
   "cell_type": "code",
   "execution_count": 26,
   "id": "4f2adbab-5850-4d5b-aacf-fb6d215c7ebf",
   "metadata": {},
   "outputs": [
    {
     "data": {
      "text/plain": [
       "60"
      ]
     },
     "execution_count": 26,
     "metadata": {},
     "output_type": "execute_result"
    }
   ],
   "source": [
    "summation_2(10,20,30)"
   ]
  },
  {
   "cell_type": "code",
   "execution_count": 51,
   "id": "d218f403-afc6-4d89-b246-bedb556b25b8",
   "metadata": {},
   "outputs": [],
   "source": [
    "def my_func(*args):\n",
    "    print(args)"
   ]
  },
  {
   "cell_type": "code",
   "execution_count": 53,
   "id": "ccaed95e-983c-4942-82f6-027352c936f5",
   "metadata": {},
   "outputs": [
    {
     "name": "stdout",
     "output_type": "stream",
     "text": [
      "('a', 'b', 1, 2)\n"
     ]
    }
   ],
   "source": [
    "my_func(\"a\",\"b\",1,2)"
   ]
  },
  {
   "cell_type": "code",
   "execution_count": 55,
   "id": "5d9a7122-a47f-4966-9c57-3445792d4135",
   "metadata": {},
   "outputs": [],
   "source": [
    "def example_func(**kvargs):\n",
    "    print(kvargs)"
   ]
  },
  {
   "cell_type": "code",
   "execution_count": 57,
   "id": "55ca746c-95a3-40be-bf34-fd186b45b01e",
   "metadata": {},
   "outputs": [
    {
     "name": "stdout",
     "output_type": "stream",
     "text": [
      "{'run': 100, 'swim': 200, 'basketball': 300}\n"
     ]
    }
   ],
   "source": [
    "example_func(run=100, swim=200, basketball=300)"
   ]
  },
  {
   "cell_type": "code",
   "execution_count": 61,
   "id": "0f14cf1a-8062-4e7d-a937-ac55998f3295",
   "metadata": {},
   "outputs": [],
   "source": [
    "def keyword_function(**kvargs):\n",
    "    if 'metallica' in kvargs:\n",
    "        print(\"Heavy Metal\")\n",
    "    else:\n",
    "        print(\"Rock is dead\")"
   ]
  },
  {
   "cell_type": "code",
   "execution_count": 67,
   "id": "5cbc0bd4-1f70-40e0-8d19-f379d4061db3",
   "metadata": {},
   "outputs": [
    {
     "name": "stdout",
     "output_type": "stream",
     "text": [
      "Heavy Metal\n"
     ]
    }
   ],
   "source": [
    "keyword_function(Madonna=10,metallica=20, ZZTop=30)"
   ]
  },
  {
   "cell_type": "code",
   "execution_count": null,
   "id": "8426fc03-4bb0-4ea0-b0fc-2ee97b1ecdaa",
   "metadata": {},
   "outputs": [],
   "source": []
  }
 ],
 "metadata": {
  "kernelspec": {
   "display_name": "Python [conda env:base] *",
   "language": "python",
   "name": "conda-base-py"
  },
  "language_info": {
   "codemirror_mode": {
    "name": "ipython",
    "version": 3
   },
   "file_extension": ".py",
   "mimetype": "text/x-python",
   "name": "python",
   "nbconvert_exporter": "python",
   "pygments_lexer": "ipython3",
   "version": "3.12.7"
  }
 },
 "nbformat": 4,
 "nbformat_minor": 5
}
