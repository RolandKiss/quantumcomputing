{
 "cells": [
  {
   "cell_type": "code",
   "execution_count": 1,
   "id": "88b34be4-9559-49f1-bab1-24da3d1f4462",
   "metadata": {},
   "outputs": [],
   "source": [
    "def divide(number):\n",
    "    return number/2"
   ]
  },
  {
   "cell_type": "code",
   "execution_count": 3,
   "id": "5bde13d7-8b72-458a-afb6-8288ee461a81",
   "metadata": {},
   "outputs": [
    {
     "data": {
      "text/plain": [
       "5.0"
      ]
     },
     "execution_count": 3,
     "metadata": {},
     "output_type": "execute_result"
    }
   ],
   "source": [
    "divide(10)"
   ]
  },
  {
   "cell_type": "code",
   "execution_count": 5,
   "id": "602ec8f8-c3ef-43bb-89a5-0f729353d343",
   "metadata": {},
   "outputs": [],
   "source": [
    "my_list=[1,2,3,4,5,6,7,8]"
   ]
  },
  {
   "cell_type": "code",
   "execution_count": 9,
   "id": "530f94a5-4fea-4676-b2cb-8083c7900bcf",
   "metadata": {},
   "outputs": [
    {
     "name": "stdout",
     "output_type": "stream",
     "text": [
      "0.5\n",
      "1.0\n",
      "1.5\n",
      "2.0\n",
      "2.5\n",
      "3.0\n",
      "3.5\n",
      "4.0\n"
     ]
    }
   ],
   "source": [
    "for num in my_list:\n",
    "    print(divide(num))"
   ]
  },
  {
   "cell_type": "markdown",
   "id": "8dce2fe9-e9a0-47b5-b712-ceb8f556df42",
   "metadata": {},
   "source": [
    "## map"
   ]
  },
  {
   "cell_type": "code",
   "execution_count": 12,
   "id": "4304e7f9-1587-4ff0-8786-a79b39dc4896",
   "metadata": {},
   "outputs": [
    {
     "data": {
      "text/plain": [
       "[0.5, 1.0, 1.5, 2.0, 2.5, 3.0, 3.5, 4.0]"
      ]
     },
     "execution_count": 12,
     "metadata": {},
     "output_type": "execute_result"
    }
   ],
   "source": [
    "list(map(divide,my_list))"
   ]
  },
  {
   "cell_type": "code",
   "execution_count": 14,
   "id": "073a2b5b-3e35-4aa5-8d70-29b4272590c0",
   "metadata": {},
   "outputs": [
    {
     "name": "stdout",
     "output_type": "stream",
     "text": [
      "[0.5, 1.0, 1.5, 2.0, 2.5, 3.0, 3.5, 4.0]\n"
     ]
    }
   ],
   "source": [
    "my_new_list=[]\n",
    "for num in my_list:\n",
    "    my_new_list.append(divide(num))\n",
    "print(my_new_list)"
   ]
  },
  {
   "cell_type": "code",
   "execution_count": 24,
   "id": "a69e8a2d-a6c0-47aa-9871-309d6a047671",
   "metadata": {},
   "outputs": [],
   "source": [
    "def control_string(string):\n",
    "    if 'Metallica' in string:\n",
    "        return True"
   ]
  },
  {
   "cell_type": "code",
   "execution_count": 28,
   "id": "c0ee4e56-c17d-4166-ac5b-86f438236f31",
   "metadata": {},
   "outputs": [],
   "source": [
    "control_string(\"Metallic is cool\")"
   ]
  },
  {
   "cell_type": "code",
   "execution_count": 43,
   "id": "b999dace-8fb8-4d49-afe8-2232608ed0e8",
   "metadata": {},
   "outputs": [],
   "source": [
    "my_artist_list=[\"Madonna\",\"Metallica\",\"MegaDeath\",\"Queen\", \"Metallica2\"]"
   ]
  },
  {
   "cell_type": "code",
   "execution_count": 32,
   "id": "2324504d-4345-4af0-82ee-365128d022ff",
   "metadata": {},
   "outputs": [
    {
     "data": {
      "text/plain": [
       "[None, True, None, None]"
      ]
     },
     "execution_count": 32,
     "metadata": {},
     "output_type": "execute_result"
    }
   ],
   "source": [
    "list(map(control_string,my_artist_list))"
   ]
  },
  {
   "cell_type": "markdown",
   "id": "2d17da99-9c72-44ee-a536-33753752721d",
   "metadata": {},
   "source": [
    "## filter"
   ]
  },
  {
   "cell_type": "code",
   "execution_count": 45,
   "id": "07d447e1-28cf-4e7c-8b3b-4201ff80303e",
   "metadata": {},
   "outputs": [
    {
     "data": {
      "text/plain": [
       "['Metallica', 'Metallica2']"
      ]
     },
     "execution_count": 45,
     "metadata": {},
     "output_type": "execute_result"
    }
   ],
   "source": [
    "list(filter(control_string,my_artist_list))"
   ]
  }
 ],
 "metadata": {
  "kernelspec": {
   "display_name": "Python [conda env:base] *",
   "language": "python",
   "name": "conda-base-py"
  },
  "language_info": {
   "codemirror_mode": {
    "name": "ipython",
    "version": 3
   },
   "file_extension": ".py",
   "mimetype": "text/x-python",
   "name": "python",
   "nbconvert_exporter": "python",
   "pygments_lexer": "ipython3",
   "version": "3.12.7"
  }
 },
 "nbformat": 4,
 "nbformat_minor": 5
}
