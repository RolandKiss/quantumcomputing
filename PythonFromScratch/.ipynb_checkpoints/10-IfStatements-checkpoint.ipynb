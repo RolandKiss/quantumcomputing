{
 "cells": [
  {
   "cell_type": "code",
   "execution_count": 3,
   "id": "1cb2c995-674a-4c20-9272-df70bbb85dd8",
   "metadata": {},
   "outputs": [
    {
     "name": "stdout",
     "output_type": "stream",
     "text": [
      "3 is greater than 2\n",
      "3 2 1\n"
     ]
    }
   ],
   "source": [
    "if 3>2:\n",
    "    print(\"3 is greater than 2\")\n",
    "    print(\"3 2 1\")"
   ]
  },
  {
   "cell_type": "code",
   "execution_count": 21,
   "id": "d1e3a226-0167-4944-aaf5-206257859400",
   "metadata": {},
   "outputs": [],
   "source": [
    "x=4"
   ]
  },
  {
   "cell_type": "code",
   "execution_count": 7,
   "id": "b15c4ebe-92d0-487d-8473-c25b23d6dff3",
   "metadata": {},
   "outputs": [],
   "source": [
    "y = 4"
   ]
  },
  {
   "cell_type": "code",
   "execution_count": 9,
   "id": "f8e7a5dd-a06f-4c61-83bc-eedc615db657",
   "metadata": {},
   "outputs": [
    {
     "data": {
      "text/plain": [
       "True"
      ]
     },
     "execution_count": 9,
     "metadata": {},
     "output_type": "execute_result"
    }
   ],
   "source": [
    "x>y"
   ]
  },
  {
   "cell_type": "code",
   "execution_count": 23,
   "id": "5ef9c35c-0078-48a7-b280-9616eba75a38",
   "metadata": {},
   "outputs": [
    {
     "name": "stdout",
     "output_type": "stream",
     "text": [
      "x is equal to y\n"
     ]
    }
   ],
   "source": [
    "if x>y:\n",
    "    print(\"x is greater than y\")\n",
    "elif x==y:\n",
    "    print(\"x is equal to y\")\n",
    "else: \n",
    "    print(\"y is greater\")"
   ]
  },
  {
   "cell_type": "code",
   "execution_count": 37,
   "id": "f8056289-3066-4953-aefa-81ac1d277c98",
   "metadata": {},
   "outputs": [
    {
     "name": "stdin",
     "output_type": "stream",
     "text": [
      "superhero:  Aquaman\n"
     ]
    }
   ],
   "source": [
    "my_superhero=input(\"superhero: \")"
   ]
  },
  {
   "cell_type": "code",
   "execution_count": 39,
   "id": "54c7405f-6d41-4bd0-8697-1ab2da93079e",
   "metadata": {},
   "outputs": [
    {
     "name": "stdout",
     "output_type": "stream",
     "text": [
      ":(\n"
     ]
    }
   ],
   "source": [
    "if my_superhero==\"Batman\":\n",
    "    print(\"Batmaaaan\")\n",
    "elif my_superhero==\"Superman\":\n",
    "    print(\"Supermaann\")\n",
    "elif my_superhero==\"Ironman\":\n",
    "    print(\"Ironmaaan\")\n",
    "else:\n",
    "    print(\":(\")"
   ]
  },
  {
   "cell_type": "code",
   "execution_count": 41,
   "id": "b94f828c-388e-4e97-b107-c28e515c9c57",
   "metadata": {},
   "outputs": [],
   "source": [
    "a=10"
   ]
  },
  {
   "cell_type": "code",
   "execution_count": 55,
   "id": "df316c63-4fa4-4789-af46-e919821d27ce",
   "metadata": {},
   "outputs": [],
   "source": [
    "b=100"
   ]
  },
  {
   "cell_type": "code",
   "execution_count": 45,
   "id": "4257edba-7c4a-4684-984b-08d3283fd6b6",
   "metadata": {},
   "outputs": [],
   "source": [
    "c=20"
   ]
  },
  {
   "cell_type": "code",
   "execution_count": 59,
   "id": "7101663c-b345-4b85-bd90-400e3d5fa592",
   "metadata": {},
   "outputs": [
    {
     "name": "stdout",
     "output_type": "stream",
     "text": [
      "Batman\n"
     ]
    }
   ],
   "source": [
    "if a>b or b<c:\n",
    "    print(\"Superman\")\n",
    "elif a<b and b>c:\n",
    "    print(\"Batman\")\n",
    "else:\n",
    "    print(\"Aquaman\")"
   ]
  },
  {
   "cell_type": "code",
   "execution_count": 77,
   "id": "31515897-f8b5-48e9-8d35-f3907dbff5a6",
   "metadata": {},
   "outputs": [],
   "source": [
    "isDead=False"
   ]
  },
  {
   "cell_type": "code",
   "execution_count": 67,
   "id": "5aaf3cdd-2a3a-49f5-84ee-ef703b415cc9",
   "metadata": {},
   "outputs": [
    {
     "name": "stdout",
     "output_type": "stream",
     "text": [
      "Character is not dead\n"
     ]
    }
   ],
   "source": [
    "if isDead==False:\n",
    "    print(\"Character is not dead\")\n",
    "else:\n",
    "    print(\"Character is dead\")"
   ]
  },
  {
   "cell_type": "code",
   "execution_count": 79,
   "id": "4b850af0-cd2f-4d6c-918f-2a1a922bd9e5",
   "metadata": {},
   "outputs": [
    {
     "name": "stdout",
     "output_type": "stream",
     "text": [
      "Characted is not dead\n"
     ]
    }
   ],
   "source": [
    "if isDead:\n",
    "    print(\"Character is dead\")\n",
    "else:\n",
    "    print(\"Characted is not dead\")"
   ]
  },
  {
   "cell_type": "code",
   "execution_count": 85,
   "id": "0996e60c-f5f7-4b0d-8c80-01ab8dc46d60",
   "metadata": {},
   "outputs": [],
   "source": [
    "my_string=\"Hello World\""
   ]
  },
  {
   "cell_type": "code",
   "execution_count": 87,
   "id": "9be368fe-70f5-4c86-8364-be93bf65c613",
   "metadata": {},
   "outputs": [],
   "source": [
    "if my_string==\"Hello World\":\n",
    "    print(\"equal\")"
   ]
  },
  {
   "cell_type": "code",
   "execution_count": 89,
   "id": "7e0ab1d0-ae83-4c04-8615-e160664dc128",
   "metadata": {},
   "outputs": [
    {
     "name": "stdout",
     "output_type": "stream",
     "text": [
      "True\n"
     ]
    }
   ],
   "source": [
    "if \"Hello\" in my_string:\n",
    "    print(\"True\")\n",
    "else: \n",
    "    print(\"False\")"
   ]
  },
  {
   "cell_type": "code",
   "execution_count": 91,
   "id": "ecc53602-cd2a-4be7-bbbb-037b14bd7c11",
   "metadata": {},
   "outputs": [],
   "source": [
    "my_list = [1,2,3,4,5]"
   ]
  },
  {
   "cell_type": "code",
   "execution_count": 93,
   "id": "6f4f2e4d-507a-4c15-9951-18cc0aff8740",
   "metadata": {},
   "outputs": [
    {
     "name": "stdout",
     "output_type": "stream",
     "text": [
      "True\n"
     ]
    }
   ],
   "source": [
    "if 2 in my_list:\n",
    "    print(\"True\")\n",
    "else:\n",
    "    print(\"False\")"
   ]
  },
  {
   "cell_type": "code",
   "execution_count": 95,
   "id": "479b1faf-d726-47ac-9541-49db7a216d7d",
   "metadata": {},
   "outputs": [],
   "source": [
    "my_dictionary={'k1':100, 'k2':200, 'k3':300}"
   ]
  },
  {
   "cell_type": "code",
   "execution_count": 103,
   "id": "96ee3957-55c9-40aa-9ba9-fdf966f7e40a",
   "metadata": {},
   "outputs": [
    {
     "name": "stdout",
     "output_type": "stream",
     "text": [
      "true\n"
     ]
    }
   ],
   "source": [
    "if 'k1' in my_dictionary.keys():\n",
    "    print(\"true\")\n",
    "else:\n",
    "    print(\"false\")"
   ]
  },
  {
   "cell_type": "code",
   "execution_count": 107,
   "id": "47d0ab63-b281-4be2-9629-f596ce0c2b87",
   "metadata": {},
   "outputs": [
    {
     "name": "stdout",
     "output_type": "stream",
     "text": [
      "false\n"
     ]
    }
   ],
   "source": [
    "if 150 in my_dictionary.values():\n",
    "    print(\"true\")\n",
    "else:\n",
    "    print(\"false\")"
   ]
  }
 ],
 "metadata": {
  "kernelspec": {
   "display_name": "Python [conda env:base] *",
   "language": "python",
   "name": "conda-base-py"
  },
  "language_info": {
   "codemirror_mode": {
    "name": "ipython",
    "version": 3
   },
   "file_extension": ".py",
   "mimetype": "text/x-python",
   "name": "python",
   "nbconvert_exporter": "python",
   "pygments_lexer": "ipython3",
   "version": "3.12.7"
  }
 },
 "nbformat": 4,
 "nbformat_minor": 5
}
