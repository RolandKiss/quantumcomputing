{
 "cells": [
  {
   "cell_type": "code",
   "execution_count": 1,
   "id": "98fcc309-355f-440b-8259-bc0254663645",
   "metadata": {},
   "outputs": [],
   "source": [
    "my_list=[\"a\",1,\"b\"]"
   ]
  },
  {
   "cell_type": "code",
   "execution_count": 2,
   "id": "7bf6a52d-12f2-42d9-b5cf-9e35051740c1",
   "metadata": {},
   "outputs": [],
   "source": [
    "my_list[0]=\"b\""
   ]
  },
  {
   "cell_type": "code",
   "execution_count": 3,
   "id": "e7c2d0c7-bc52-46fb-a09f-b06f3443962f",
   "metadata": {},
   "outputs": [
    {
     "data": {
      "text/plain": [
       "'b'"
      ]
     },
     "execution_count": 3,
     "metadata": {},
     "output_type": "execute_result"
    }
   ],
   "source": [
    "my_list[0]"
   ]
  },
  {
   "cell_type": "code",
   "execution_count": 4,
   "id": "0fdcbe4b-4348-4b5d-8be4-25809ab4b8c2",
   "metadata": {},
   "outputs": [],
   "source": [
    "my_tuple=(\"a\",1,\"b\")"
   ]
  },
  {
   "cell_type": "code",
   "execution_count": 5,
   "id": "c5c5c787-b6d7-43d3-ae0c-c6dcb9ea288c",
   "metadata": {},
   "outputs": [
    {
     "data": {
      "text/plain": [
       "('a', 1, 'b')"
      ]
     },
     "execution_count": 5,
     "metadata": {},
     "output_type": "execute_result"
    }
   ],
   "source": [
    "my_tuple"
   ]
  },
  {
   "cell_type": "code",
   "execution_count": 7,
   "id": "0af88591-7c80-4f87-b9da-41a8dfa23d19",
   "metadata": {},
   "outputs": [],
   "source": [
    "# my_tuple[0]=\"b\""
   ]
  },
  {
   "cell_type": "markdown",
   "id": "28fed776-bfe4-4573-b083-8d999ab95395",
   "metadata": {},
   "source": [
    "#Immutable"
   ]
  },
  {
   "cell_type": "code",
   "execution_count": 8,
   "id": "652b5909-595a-4708-bb5a-5f0163899d5a",
   "metadata": {},
   "outputs": [
    {
     "data": {
      "text/plain": [
       "1"
      ]
     },
     "execution_count": 8,
     "metadata": {},
     "output_type": "execute_result"
    }
   ],
   "source": [
    "my_tuple.count(\"a\")"
   ]
  },
  {
   "cell_type": "code",
   "execution_count": 9,
   "id": "21aaa3ab-9571-4fd0-9281-fce5f77753b3",
   "metadata": {},
   "outputs": [],
   "source": [
    "my_tuple2=(1,1,1,\"a\",\"c\")"
   ]
  },
  {
   "cell_type": "code",
   "execution_count": 11,
   "id": "f496a7e7-3f98-40f1-ab24-f8f28c3a0e5a",
   "metadata": {},
   "outputs": [
    {
     "data": {
      "text/plain": [
       "3"
      ]
     },
     "execution_count": 11,
     "metadata": {},
     "output_type": "execute_result"
    }
   ],
   "source": [
    "my_tuple2.count(1)"
   ]
  },
  {
   "cell_type": "code",
   "execution_count": 14,
   "id": "7f3c10c1-f7ef-4ae3-9605-7bc586cda2e7",
   "metadata": {},
   "outputs": [
    {
     "data": {
      "text/plain": [
       "3"
      ]
     },
     "execution_count": 14,
     "metadata": {},
     "output_type": "execute_result"
    }
   ],
   "source": [
    "my_tuple2.index(\"a\")"
   ]
  }
 ],
 "metadata": {
  "kernelspec": {
   "display_name": "Python 3 (ipykernel)",
   "language": "python",
   "name": "python3"
  },
  "language_info": {
   "codemirror_mode": {
    "name": "ipython",
    "version": 3
   },
   "file_extension": ".py",
   "mimetype": "text/x-python",
   "name": "python",
   "nbconvert_exporter": "python",
   "pygments_lexer": "ipython3",
   "version": "3.12.7"
  }
 },
 "nbformat": 4,
 "nbformat_minor": 5
}
