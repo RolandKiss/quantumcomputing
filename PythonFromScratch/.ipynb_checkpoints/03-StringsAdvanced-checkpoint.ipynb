{
 "cells": [
  {
   "cell_type": "code",
   "execution_count": 3,
   "id": "bddd69b1-1fd5-46a5-b077-31cf43f5c675",
   "metadata": {},
   "outputs": [],
   "source": [
    "my_string=\"Hello World\""
   ]
  },
  {
   "cell_type": "code",
   "execution_count": 4,
   "id": "4da9857b-4db2-4b0b-8b53-4164eb33888d",
   "metadata": {},
   "outputs": [
    {
     "data": {
      "text/plain": [
       "'Hello World'"
      ]
     },
     "execution_count": 4,
     "metadata": {},
     "output_type": "execute_result"
    }
   ],
   "source": [
    "my_string"
   ]
  },
  {
   "cell_type": "markdown",
   "id": "3feb48e9-693e-4a1a-9a2e-27dae90062ce",
   "metadata": {},
   "source": [
    "##Indexing"
   ]
  },
  {
   "cell_type": "code",
   "execution_count": 5,
   "id": "860ea6e0-61f6-44e5-9bc2-e423735e6605",
   "metadata": {},
   "outputs": [
    {
     "data": {
      "text/plain": [
       "'H'"
      ]
     },
     "execution_count": 5,
     "metadata": {},
     "output_type": "execute_result"
    }
   ],
   "source": [
    "my_string[0]"
   ]
  },
  {
   "cell_type": "code",
   "execution_count": 6,
   "id": "1896fbc5-61db-4e9c-a547-8a9d77d69bee",
   "metadata": {},
   "outputs": [
    {
     "data": {
      "text/plain": [
       "'o'"
      ]
     },
     "execution_count": 6,
     "metadata": {},
     "output_type": "execute_result"
    }
   ],
   "source": [
    "my_string[4]"
   ]
  },
  {
   "cell_type": "code",
   "execution_count": 7,
   "id": "3e170fb2-3061-437d-a584-0175f685b03a",
   "metadata": {},
   "outputs": [
    {
     "data": {
      "text/plain": [
       "'d'"
      ]
     },
     "execution_count": 7,
     "metadata": {},
     "output_type": "execute_result"
    }
   ],
   "source": [
    "my_string[-1]"
   ]
  },
  {
   "cell_type": "code",
   "execution_count": 8,
   "id": "ae90047a-78d7-40a8-9f3e-455c8ff0bb6e",
   "metadata": {},
   "outputs": [
    {
     "data": {
      "text/plain": [
       "'l'"
      ]
     },
     "execution_count": 8,
     "metadata": {},
     "output_type": "execute_result"
    }
   ],
   "source": [
    "my_string[-2]"
   ]
  },
  {
   "cell_type": "code",
   "execution_count": 9,
   "id": "57fc9f2b-8196-4449-899c-be117337c927",
   "metadata": {},
   "outputs": [],
   "source": [
    "my_string_2=\"1234567890\""
   ]
  },
  {
   "cell_type": "code",
   "execution_count": 10,
   "id": "3aad9d6e-eb47-4199-bc45-6c4ceeb06578",
   "metadata": {},
   "outputs": [
    {
     "data": {
      "text/plain": [
       "'1'"
      ]
     },
     "execution_count": 10,
     "metadata": {},
     "output_type": "execute_result"
    }
   ],
   "source": [
    "my_string_2[0]"
   ]
  },
  {
   "cell_type": "code",
   "execution_count": 11,
   "id": "2e2dc2a2-06b3-4175-a42e-36b681453ee9",
   "metadata": {},
   "outputs": [
    {
     "data": {
      "text/plain": [
       "'34567890'"
      ]
     },
     "execution_count": 11,
     "metadata": {},
     "output_type": "execute_result"
    }
   ],
   "source": [
    "my_string_2[2:]"
   ]
  },
  {
   "cell_type": "markdown",
   "id": "3ff3bf6e-fb66-483a-9bf9-3142d7034b7e",
   "metadata": {},
   "source": [
    "##Slicing"
   ]
  },
  {
   "cell_type": "code",
   "execution_count": 12,
   "id": "18f93272-26b7-4481-ae72-d8c29780c622",
   "metadata": {},
   "outputs": [
    {
     "data": {
      "text/plain": [
       "'567890'"
      ]
     },
     "execution_count": 12,
     "metadata": {},
     "output_type": "execute_result"
    }
   ],
   "source": [
    "my_string_2[4:10]"
   ]
  },
  {
   "cell_type": "code",
   "execution_count": 13,
   "id": "65563d43-6b48-4c90-a011-65d7b8305743",
   "metadata": {},
   "outputs": [
    {
     "data": {
      "text/plain": [
       "'12'"
      ]
     },
     "execution_count": 13,
     "metadata": {},
     "output_type": "execute_result"
    }
   ],
   "source": [
    "my_string_2[:2]"
   ]
  },
  {
   "cell_type": "markdown",
   "id": "7811e421-f03a-4814-917b-c5b938396f76",
   "metadata": {},
   "source": [
    "##Stopping Index"
   ]
  },
  {
   "cell_type": "code",
   "execution_count": 14,
   "id": "23fba576-503a-4527-802b-86a9a79f2b32",
   "metadata": {},
   "outputs": [
    {
     "data": {
      "text/plain": [
       "'1234'"
      ]
     },
     "execution_count": 14,
     "metadata": {},
     "output_type": "execute_result"
    }
   ],
   "source": [
    "my_string_2[:4]"
   ]
  },
  {
   "cell_type": "code",
   "execution_count": 15,
   "id": "a5807ae8-6760-4403-b426-1c25624bcec9",
   "metadata": {},
   "outputs": [
    {
     "data": {
      "text/plain": [
       "'34'"
      ]
     },
     "execution_count": 15,
     "metadata": {},
     "output_type": "execute_result"
    }
   ],
   "source": [
    "my_string_2[2:4]"
   ]
  },
  {
   "cell_type": "markdown",
   "id": "0072b732-9e1f-4aa3-930b-47c097135aec",
   "metadata": {},
   "source": [
    "##Step Size"
   ]
  },
  {
   "cell_type": "code",
   "execution_count": 16,
   "id": "2aa511b4-6695-4b6e-a372-c902edd3b1b3",
   "metadata": {},
   "outputs": [
    {
     "data": {
      "text/plain": [
       "'1234567890'"
      ]
     },
     "execution_count": 16,
     "metadata": {},
     "output_type": "execute_result"
    }
   ],
   "source": [
    "my_string_2[::]"
   ]
  },
  {
   "cell_type": "code",
   "execution_count": 17,
   "id": "24d6b82f-2673-4eb4-a5a2-df197dbe9c04",
   "metadata": {},
   "outputs": [
    {
     "data": {
      "text/plain": [
       "'1470'"
      ]
     },
     "execution_count": 17,
     "metadata": {},
     "output_type": "execute_result"
    }
   ],
   "source": [
    "my_string_2[::3]"
   ]
  },
  {
   "cell_type": "code",
   "execution_count": 18,
   "id": "e14d31d2-becd-4d10-8517-823321b9f93c",
   "metadata": {},
   "outputs": [
    {
     "data": {
      "text/plain": [
       "'13579'"
      ]
     },
     "execution_count": 18,
     "metadata": {},
     "output_type": "execute_result"
    }
   ],
   "source": [
    "my_string_2[::2]"
   ]
  },
  {
   "cell_type": "code",
   "execution_count": 19,
   "id": "bb6919ad-37ae-4706-ad97-eef94beac165",
   "metadata": {},
   "outputs": [
    {
     "data": {
      "text/plain": [
       "'3'"
      ]
     },
     "execution_count": 19,
     "metadata": {},
     "output_type": "execute_result"
    }
   ],
   "source": [
    "my_string_2[2:4:2]"
   ]
  },
  {
   "cell_type": "code",
   "execution_count": 20,
   "id": "7a617367-9ff2-4a13-b088-9915c666f38c",
   "metadata": {},
   "outputs": [
    {
     "data": {
      "text/plain": [
       "'0987654321'"
      ]
     },
     "execution_count": 20,
     "metadata": {},
     "output_type": "execute_result"
    }
   ],
   "source": [
    "my_string_2[::-1]"
   ]
  },
  {
   "cell_type": "markdown",
   "id": "f1ca1d44-5afc-4dad-95ef-b942de00c7ca",
   "metadata": {},
   "source": [
    "##String MEthods"
   ]
  },
  {
   "cell_type": "code",
   "execution_count": 21,
   "id": "fb4015f6-a905-4e36-8025-665b89a5fd16",
   "metadata": {},
   "outputs": [],
   "source": [
    "my_name=\"Roland\""
   ]
  },
  {
   "cell_type": "code",
   "execution_count": 22,
   "id": "f6b78691-b18f-4298-8b6a-cd06762334f5",
   "metadata": {},
   "outputs": [
    {
     "data": {
      "text/plain": [
       "'Roland'"
      ]
     },
     "execution_count": 22,
     "metadata": {},
     "output_type": "execute_result"
    }
   ],
   "source": [
    "my_name.capitalize()"
   ]
  },
  {
   "cell_type": "code",
   "execution_count": 23,
   "id": "a1eb3f37-50cd-4b0d-b9ae-84b47642c0b6",
   "metadata": {},
   "outputs": [],
   "source": [
    "my_name=\"roland\""
   ]
  },
  {
   "cell_type": "code",
   "execution_count": 24,
   "id": "d6f1e333-3a2c-4731-9569-835699c75a6a",
   "metadata": {},
   "outputs": [
    {
     "data": {
      "text/plain": [
       "'roland'"
      ]
     },
     "execution_count": 24,
     "metadata": {},
     "output_type": "execute_result"
    }
   ],
   "source": [
    "my_name"
   ]
  },
  {
   "cell_type": "code",
   "execution_count": 25,
   "id": "c40637da-448e-46f1-8135-7bb032f1a353",
   "metadata": {},
   "outputs": [],
   "source": [
    "my_name_cap=my_name.capitalize()"
   ]
  },
  {
   "cell_type": "code",
   "execution_count": 26,
   "id": "0dc66cda-1009-4eb4-ad9b-3e5306287e09",
   "metadata": {},
   "outputs": [
    {
     "data": {
      "text/plain": [
       "'Roland'"
      ]
     },
     "execution_count": 26,
     "metadata": {},
     "output_type": "execute_result"
    }
   ],
   "source": [
    "my_name_cap"
   ]
  },
  {
   "cell_type": "code",
   "execution_count": 27,
   "id": "dd811b92-ca48-4e94-8b7a-2e2c6b4fdfa9",
   "metadata": {},
   "outputs": [],
   "source": [
    "my_name=\"Roland Kiss\""
   ]
  },
  {
   "cell_type": "code",
   "execution_count": 28,
   "id": "39f54e2c-4be2-4f35-a0cd-ab5e0b8eaa00",
   "metadata": {},
   "outputs": [
    {
     "data": {
      "text/plain": [
       "['Roland', 'Kiss']"
      ]
     },
     "execution_count": 28,
     "metadata": {},
     "output_type": "execute_result"
    }
   ],
   "source": [
    "my_name.split()"
   ]
  },
  {
   "cell_type": "code",
   "execution_count": 29,
   "id": "6377f654-3347-45e7-9aae-e4e6efdf5c63",
   "metadata": {},
   "outputs": [],
   "source": [
    "my_name_split=my_name.split()"
   ]
  },
  {
   "cell_type": "code",
   "execution_count": 30,
   "id": "3207fc6b-dd75-4e1b-929d-7bae4f4c7984",
   "metadata": {},
   "outputs": [
    {
     "data": {
      "text/plain": [
       "['Roland', 'Kiss']"
      ]
     },
     "execution_count": 30,
     "metadata": {},
     "output_type": "execute_result"
    }
   ],
   "source": [
    "my_name_split"
   ]
  },
  {
   "cell_type": "code",
   "execution_count": 31,
   "id": "034d8929-1695-4e4c-a916-70085419a864",
   "metadata": {},
   "outputs": [
    {
     "data": {
      "text/plain": [
       "'R'"
      ]
     },
     "execution_count": 31,
     "metadata": {},
     "output_type": "execute_result"
    }
   ],
   "source": [
    "my_name[0]"
   ]
  },
  {
   "cell_type": "code",
   "execution_count": 32,
   "id": "b9c51ddd-7b6a-41a7-972a-d3ded420aca1",
   "metadata": {},
   "outputs": [
    {
     "data": {
      "text/plain": [
       "'Roland'"
      ]
     },
     "execution_count": 32,
     "metadata": {},
     "output_type": "execute_result"
    }
   ],
   "source": [
    "my_name_split[0]"
   ]
  },
  {
   "cell_type": "code",
   "execution_count": 33,
   "id": "1390deb0-447d-4dce-b636-17908079fb54",
   "metadata": {},
   "outputs": [],
   "source": [
    "my_number=123"
   ]
  },
  {
   "cell_type": "code",
   "execution_count": 34,
   "id": "a5176254-73a9-457d-8d1c-712c429d9bc4",
   "metadata": {},
   "outputs": [
    {
     "data": {
      "text/plain": [
       "'ROLAND KISS'"
      ]
     },
     "execution_count": 34,
     "metadata": {},
     "output_type": "execute_result"
    }
   ],
   "source": [
    "my_name.upper()"
   ]
  },
  {
   "cell_type": "code",
   "execution_count": 35,
   "id": "f207858c-fcfc-4ea2-8693-ce3c2e2a8ca3",
   "metadata": {},
   "outputs": [
    {
     "data": {
      "text/plain": [
       "'jamesjamesjamesjamesjamesjamesjamesjamesjamesjames'"
      ]
     },
     "execution_count": 35,
     "metadata": {},
     "output_type": "execute_result"
    }
   ],
   "source": [
    "'james' * 10"
   ]
  },
  {
   "cell_type": "code",
   "execution_count": 36,
   "id": "73bbdb0c-3f11-4a2a-b366-27480b43432f",
   "metadata": {},
   "outputs": [
    {
     "ename": "TypeError",
     "evalue": "can't multiply sequence by non-int of type 'float'",
     "output_type": "error",
     "traceback": [
      "\u001b[1;31m---------------------------------------------------------------------------\u001b[0m",
      "\u001b[1;31mTypeError\u001b[0m                                 Traceback (most recent call last)",
      "Cell \u001b[1;32mIn[36], line 1\u001b[0m\n\u001b[1;32m----> 1\u001b[0m \u001b[38;5;124m'\u001b[39m\u001b[38;5;124mjames\u001b[39m\u001b[38;5;124m'\u001b[39m \u001b[38;5;241m*\u001b[39m \u001b[38;5;241m10.6\u001b[39m\n",
      "\u001b[1;31mTypeError\u001b[0m: can't multiply sequence by non-int of type 'float'"
     ]
    }
   ],
   "source": [
    "'james' * 10.6"
   ]
  },
  {
   "cell_type": "code",
   "execution_count": 37,
   "id": "74d44700-9bcd-4da4-a673-1e45102eb03f",
   "metadata": {},
   "outputs": [
    {
     "ename": "TypeError",
     "evalue": "can only concatenate str (not \"int\") to str",
     "output_type": "error",
     "traceback": [
      "\u001b[1;31m---------------------------------------------------------------------------\u001b[0m",
      "\u001b[1;31mTypeError\u001b[0m                                 Traceback (most recent call last)",
      "Cell \u001b[1;32mIn[37], line 1\u001b[0m\n\u001b[1;32m----> 1\u001b[0m \u001b[38;5;124m'\u001b[39m\u001b[38;5;124mjames\u001b[39m\u001b[38;5;124m'\u001b[39m \u001b[38;5;241m+\u001b[39m \u001b[38;5;241m5\u001b[39m\n",
      "\u001b[1;31mTypeError\u001b[0m: can only concatenate str (not \"int\") to str"
     ]
    }
   ],
   "source": [
    "'james' + 5"
   ]
  },
  {
   "cell_type": "code",
   "execution_count": 38,
   "id": "57ae73fb-6c46-4ede-b692-23d3c82cec62",
   "metadata": {},
   "outputs": [
    {
     "data": {
      "text/plain": [
       "'james5'"
      ]
     },
     "execution_count": 38,
     "metadata": {},
     "output_type": "execute_result"
    }
   ],
   "source": [
    "'james' + '5'"
   ]
  },
  {
   "cell_type": "code",
   "execution_count": 39,
   "id": "565d9bf3-f447-405b-a696-b31137c3aa3e",
   "metadata": {},
   "outputs": [],
   "source": [
    "my_first_name='Roland'"
   ]
  },
  {
   "cell_type": "code",
   "execution_count": 40,
   "id": "b1d7d655-a384-4ab4-bf25-8ffc610aa980",
   "metadata": {},
   "outputs": [],
   "source": [
    "my_surname='Kiss'"
   ]
  },
  {
   "cell_type": "code",
   "execution_count": 41,
   "id": "13fb3c28-2341-452a-b264-1890556c65ed",
   "metadata": {},
   "outputs": [],
   "source": [
    "myname=my_first_name+my_surname"
   ]
  },
  {
   "cell_type": "code",
   "execution_count": 42,
   "id": "9109e605-66a4-41a2-a544-927c36c46918",
   "metadata": {},
   "outputs": [
    {
     "data": {
      "text/plain": [
       "'RolandKiss'"
      ]
     },
     "execution_count": 42,
     "metadata": {},
     "output_type": "execute_result"
    }
   ],
   "source": [
    "myname"
   ]
  },
  {
   "cell_type": "code",
   "execution_count": 43,
   "id": "5d262536-2a47-49da-a1de-626c86015d77",
   "metadata": {},
   "outputs": [],
   "source": [
    "myname=my_first_name+' '+my_surname"
   ]
  },
  {
   "cell_type": "code",
   "execution_count": 44,
   "id": "b14a1452-396d-44bc-8087-5ae355d6b8b8",
   "metadata": {},
   "outputs": [
    {
     "data": {
      "text/plain": [
       "'Roland Kiss'"
      ]
     },
     "execution_count": 44,
     "metadata": {},
     "output_type": "execute_result"
    }
   ],
   "source": [
    "myname"
   ]
  }
 ],
 "metadata": {
  "kernelspec": {
   "display_name": "Python 3 (ipykernel)",
   "language": "python",
   "name": "python3"
  },
  "language_info": {
   "codemirror_mode": {
    "name": "ipython",
    "version": 3
   },
   "file_extension": ".py",
   "mimetype": "text/x-python",
   "name": "python",
   "nbconvert_exporter": "python",
   "pygments_lexer": "ipython3",
   "version": "3.12.7"
  }
 },
 "nbformat": 4,
 "nbformat_minor": 5
}
