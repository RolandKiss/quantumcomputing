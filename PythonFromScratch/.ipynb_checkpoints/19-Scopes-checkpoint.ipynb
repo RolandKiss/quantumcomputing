{
 "cells": [
  {
   "cell_type": "code",
   "execution_count": 1,
   "id": "2b86f68a-4368-472e-a670-314d0c50d175",
   "metadata": {},
   "outputs": [],
   "source": [
    "number = 10"
   ]
  },
  {
   "cell_type": "code",
   "execution_count": 7,
   "id": "6d2e3d89-7892-4e9a-8e31-e496e452506f",
   "metadata": {},
   "outputs": [],
   "source": [
    "def multiply(num):\n",
    "    number = 5\n",
    "    return num * number"
   ]
  },
  {
   "cell_type": "code",
   "execution_count": 9,
   "id": "73c58288-edff-45c7-b75a-eb30e0f745f7",
   "metadata": {},
   "outputs": [
    {
     "data": {
      "text/plain": [
       "50"
      ]
     },
     "execution_count": 9,
     "metadata": {},
     "output_type": "execute_result"
    }
   ],
   "source": [
    "multiply(10)"
   ]
  },
  {
   "cell_type": "code",
   "execution_count": 11,
   "id": "aede24bc-8359-41fa-af5f-28bf19df3a33",
   "metadata": {},
   "outputs": [
    {
     "name": "stdout",
     "output_type": "stream",
     "text": [
      "10\n"
     ]
    }
   ],
   "source": [
    "print(number)"
   ]
  },
  {
   "cell_type": "markdown",
   "id": "dbf57020-5c5e-4688-bc85-33e25fcc3112",
   "metadata": {},
   "source": [
    "## LEGB\n",
    "\n",
    "### L - Local\n",
    "### E - Enclosing\n",
    "### G - Global\n",
    "### B - Built-in"
   ]
  },
  {
   "cell_type": "code",
   "execution_count": 39,
   "id": "a45ed8b2-45c9-4db0-9bc8-99a5bc90ac0a",
   "metadata": {},
   "outputs": [],
   "source": [
    "#glocal\n",
    "my_string=\"Roland\""
   ]
  },
  {
   "cell_type": "code",
   "execution_count": 55,
   "id": "366b688f-9923-434d-a10c-372cc381a8f6",
   "metadata": {},
   "outputs": [],
   "source": [
    "def my_func():\n",
    "#enclosing\n",
    "    my_string=\"James\"\n",
    "    def my_func2():\n",
    "        #Local\n",
    "        my_string=\"Kiss\"\n",
    "        print(my_string)\n",
    "    my_func2()\n",
    "    "
   ]
  },
  {
   "cell_type": "code",
   "execution_count": 57,
   "id": "a6de04be-4f05-4ab9-9f31-53bad0ede7ce",
   "metadata": {},
   "outputs": [
    {
     "name": "stdout",
     "output_type": "stream",
     "text": [
      "Kiss\n"
     ]
    }
   ],
   "source": [
    "my_func()"
   ]
  },
  {
   "cell_type": "code",
   "execution_count": 37,
   "id": "d60375d8-a7ed-4ea3-8f6e-39326c14bdbb",
   "metadata": {},
   "outputs": [
    {
     "data": {
      "text/plain": [
       "'Roland'"
      ]
     },
     "execution_count": 37,
     "metadata": {},
     "output_type": "execute_result"
    }
   ],
   "source": [
    "my_string"
   ]
  },
  {
   "cell_type": "code",
   "execution_count": 75,
   "id": "f76e5c01-c489-44e5-a590-f9c33f7725aa",
   "metadata": {},
   "outputs": [],
   "source": [
    "y=10\n",
    "\n",
    "def func_new(y):\n",
    "    print(y)\n",
    "    y=5\n",
    "    print(y)"
   ]
  },
  {
   "cell_type": "code",
   "execution_count": 77,
   "id": "960328c0-7353-4862-b0f5-802a40d12586",
   "metadata": {},
   "outputs": [
    {
     "name": "stdout",
     "output_type": "stream",
     "text": [
      "10\n",
      "5\n"
     ]
    }
   ],
   "source": [
    "func_new(10)"
   ]
  },
  {
   "cell_type": "code",
   "execution_count": 79,
   "id": "2481ca79-d319-473a-83c6-594852b452b6",
   "metadata": {},
   "outputs": [
    {
     "data": {
      "text/plain": [
       "10"
      ]
     },
     "execution_count": 79,
     "metadata": {},
     "output_type": "execute_result"
    }
   ],
   "source": [
    "y"
   ]
  },
  {
   "cell_type": "code",
   "execution_count": 87,
   "id": "340b7dbb-de76-4787-97cf-b092b5c257a4",
   "metadata": {},
   "outputs": [],
   "source": [
    "y=10\n",
    "\n",
    "def func_new():\n",
    "    global y\n",
    "    y=5\n",
    "    print(y)"
   ]
  },
  {
   "cell_type": "code",
   "execution_count": 89,
   "id": "accd0479-2251-476c-beb5-e0dca9985c91",
   "metadata": {},
   "outputs": [
    {
     "name": "stdout",
     "output_type": "stream",
     "text": [
      "5\n"
     ]
    }
   ],
   "source": [
    "func_new()"
   ]
  },
  {
   "cell_type": "code",
   "execution_count": 91,
   "id": "89e761b8-8396-448e-8f4b-55d0d33bcd96",
   "metadata": {},
   "outputs": [
    {
     "data": {
      "text/plain": [
       "5"
      ]
     },
     "execution_count": 91,
     "metadata": {},
     "output_type": "execute_result"
    }
   ],
   "source": [
    "y"
   ]
  }
 ],
 "metadata": {
  "kernelspec": {
   "display_name": "Python [conda env:base] *",
   "language": "python",
   "name": "conda-base-py"
  },
  "language_info": {
   "codemirror_mode": {
    "name": "ipython",
    "version": 3
   },
   "file_extension": ".py",
   "mimetype": "text/x-python",
   "name": "python",
   "nbconvert_exporter": "python",
   "pygments_lexer": "ipython3",
   "version": "3.12.7"
  }
 },
 "nbformat": 4,
 "nbformat_minor": 5
}
