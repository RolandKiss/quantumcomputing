{
 "cells": [
  {
   "cell_type": "markdown",
   "id": "ecdfd32e-9bcb-4cd2-a84e-5cdcb00abbd7",
   "metadata": {},
   "source": [
    "## Class"
   ]
  },
  {
   "cell_type": "code",
   "execution_count": 3,
   "id": "1f937a95-4990-4150-a664-184796a80750",
   "metadata": {},
   "outputs": [],
   "source": [
    "my_list=list()"
   ]
  },
  {
   "cell_type": "markdown",
   "id": "da92abda-d834-4fde-9f77-0cdaa641380c",
   "metadata": {},
   "source": [
    "## instance & attributes"
   ]
  },
  {
   "cell_type": "code",
   "execution_count": 7,
   "id": "480d3dfd-54c2-4d88-857d-76278a2a2bbc",
   "metadata": {},
   "outputs": [],
   "source": [
    "# snake case --> my_list\n",
    "# camel case --> myString\n"
   ]
  },
  {
   "cell_type": "code",
   "execution_count": 69,
   "id": "cd4a41c8-1d46-4c47-a5bc-16b11444318c",
   "metadata": {},
   "outputs": [],
   "source": [
    "class Musician():\n",
    "\n",
    "    job = \"Musician\"\n",
    "    \n",
    "    def __init__(self,name,age,instrument):\n",
    "        self.name=name\n",
    "        self.age=age\n",
    "        self.instrument=instrument\n",
    "\n",
    "    #method\n",
    "    def sing(self):\n",
    "        print(f\"We are the Champions! {self.instrument}\")"
   ]
  },
  {
   "cell_type": "code",
   "execution_count": 71,
   "id": "f603c4a8-3afb-4ed5-a1cc-bf0a0edbcf46",
   "metadata": {},
   "outputs": [],
   "source": [
    "my_musician=Musician(\"James\",50,\"Drum\")"
   ]
  },
  {
   "cell_type": "code",
   "execution_count": 23,
   "id": "a41dfaba-2a5f-4674-99be-2743550e328d",
   "metadata": {},
   "outputs": [
    {
     "data": {
      "text/plain": [
       "50"
      ]
     },
     "execution_count": 23,
     "metadata": {},
     "output_type": "execute_result"
    }
   ],
   "source": [
    "my_musician.age"
   ]
  },
  {
   "cell_type": "code",
   "execution_count": 25,
   "id": "cbdd8897-2d86-4e3d-9f09-f30b2a7f7d77",
   "metadata": {},
   "outputs": [
    {
     "data": {
      "text/plain": [
       "'James'"
      ]
     },
     "execution_count": 25,
     "metadata": {},
     "output_type": "execute_result"
    }
   ],
   "source": [
    "my_musician.name"
   ]
  },
  {
   "cell_type": "code",
   "execution_count": 27,
   "id": "7378a2f5-072c-4727-86ee-2a51a5c28256",
   "metadata": {},
   "outputs": [],
   "source": [
    "my_musician.name=\"Lars\""
   ]
  },
  {
   "cell_type": "code",
   "execution_count": 29,
   "id": "b55893ea-621f-4f39-9501-e3efa357201a",
   "metadata": {},
   "outputs": [
    {
     "data": {
      "text/plain": [
       "'Drum'"
      ]
     },
     "execution_count": 29,
     "metadata": {},
     "output_type": "execute_result"
    }
   ],
   "source": [
    "my_musician.instrument"
   ]
  },
  {
   "cell_type": "code",
   "execution_count": 39,
   "id": "a7fe6b94-01be-435c-a884-1ac7918967f1",
   "metadata": {},
   "outputs": [],
   "source": [
    "my_musician.job = \"Singer\""
   ]
  },
  {
   "cell_type": "code",
   "execution_count": 61,
   "id": "3db67f06-3833-451d-a044-7c2d7d25488e",
   "metadata": {},
   "outputs": [
    {
     "data": {
      "text/plain": [
       "'Musician'"
      ]
     },
     "execution_count": 61,
     "metadata": {},
     "output_type": "execute_result"
    }
   ],
   "source": [
    "my_musician.job"
   ]
  },
  {
   "cell_type": "code",
   "execution_count": 73,
   "id": "2cd1600c-a4ad-4ccd-a8c2-b17fe2c42f10",
   "metadata": {},
   "outputs": [
    {
     "name": "stdout",
     "output_type": "stream",
     "text": [
      "We are the Champions! Drum\n"
     ]
    }
   ],
   "source": [
    "my_musician.sing()"
   ]
  },
  {
   "cell_type": "code",
   "execution_count": 109,
   "id": "b7137b9c-b215-4285-a88a-c8fc6da1bae6",
   "metadata": {},
   "outputs": [],
   "source": [
    "class DogYears():\n",
    "\n",
    "    year_factor=7\n",
    "\n",
    "    def __init__(self,age):\n",
    "        self.age=age\n",
    "        self.name=\"Bar\"\n",
    "        self.age_multiplied=self.age * 7\n",
    "\n",
    "    def calculation(self):\n",
    "        return self.age * self.year_factor"
   ]
  },
  {
   "cell_type": "code",
   "execution_count": 111,
   "id": "8c47fcd8-9459-4647-bad5-566845e7ba82",
   "metadata": {},
   "outputs": [],
   "source": [
    "my_dog=DogYears(5)"
   ]
  },
  {
   "cell_type": "code",
   "execution_count": 103,
   "id": "538b2b63-7eab-4a19-8253-61aa75fd4210",
   "metadata": {},
   "outputs": [
    {
     "data": {
      "text/plain": [
       "5"
      ]
     },
     "execution_count": 103,
     "metadata": {},
     "output_type": "execute_result"
    }
   ],
   "source": [
    "my_dog.age"
   ]
  },
  {
   "cell_type": "code",
   "execution_count": 105,
   "id": "cdf03d42-faf9-4e03-bd6a-4f726e27d716",
   "metadata": {},
   "outputs": [
    {
     "data": {
      "text/plain": [
       "35"
      ]
     },
     "execution_count": 105,
     "metadata": {},
     "output_type": "execute_result"
    }
   ],
   "source": [
    "my_dog.calculation()"
   ]
  },
  {
   "cell_type": "code",
   "execution_count": 107,
   "id": "ffea7577-1e17-4bba-bd95-b1aa4029f88b",
   "metadata": {},
   "outputs": [
    {
     "data": {
      "text/plain": [
       "'Bar'"
      ]
     },
     "execution_count": 107,
     "metadata": {},
     "output_type": "execute_result"
    }
   ],
   "source": [
    "my_dog.name"
   ]
  },
  {
   "cell_type": "code",
   "execution_count": 115,
   "id": "075db03c-d459-4884-afe7-659e33c0b21b",
   "metadata": {},
   "outputs": [
    {
     "data": {
      "text/plain": [
       "35"
      ]
     },
     "execution_count": 115,
     "metadata": {},
     "output_type": "execute_result"
    }
   ],
   "source": [
    "my_dog.age_multiplied"
   ]
  },
  {
   "cell_type": "markdown",
   "id": "afe2d200-dd16-4b7e-b40e-155ac535df0f",
   "metadata": {},
   "source": [
    "## inheritance"
   ]
  },
  {
   "cell_type": "code",
   "execution_count": 120,
   "id": "cba3fbd1-7b2f-48d0-817b-8dccc8937939",
   "metadata": {},
   "outputs": [],
   "source": [
    "class Class1():\n",
    "    def __init__(self):\n",
    "        print(\"Class1 created\")\n",
    "\n",
    "    def method1(self):\n",
    "        print(\"Method1\")\n",
    "\n",
    "    def method2(self):\n",
    "        print(\"Method2\")"
   ]
  },
  {
   "cell_type": "code",
   "execution_count": 122,
   "id": "081f2e24-2b6d-479d-a1f8-8e2077f71abd",
   "metadata": {},
   "outputs": [
    {
     "name": "stdout",
     "output_type": "stream",
     "text": [
      "Class1 created\n"
     ]
    }
   ],
   "source": [
    "my_instance=Class1()"
   ]
  },
  {
   "cell_type": "code",
   "execution_count": 124,
   "id": "fbc8b9ff-c881-45f4-b304-b82f39121436",
   "metadata": {},
   "outputs": [
    {
     "name": "stdout",
     "output_type": "stream",
     "text": [
      "Method1\n"
     ]
    }
   ],
   "source": [
    "my_instance.method1()"
   ]
  },
  {
   "cell_type": "code",
   "execution_count": 126,
   "id": "6df7e7da-4fda-43d5-a882-0493f9391325",
   "metadata": {},
   "outputs": [
    {
     "name": "stdout",
     "output_type": "stream",
     "text": [
      "Method2\n"
     ]
    }
   ],
   "source": [
    "my_instance.method2()"
   ]
  },
  {
   "cell_type": "code",
   "execution_count": 146,
   "id": "7e3f7ad6-6a15-4bad-8dee-b13de8707f97",
   "metadata": {},
   "outputs": [],
   "source": [
    "class Class2(Class1):\n",
    "    def __init__(self):\n",
    "        Class1.__init__(self)\n",
    "        print(\"Class2 created\")\n",
    "\n",
    "    def method3(self):\n",
    "        print(\"Method3\")\n",
    "\n",
    "    #override\n",
    "    def method1(self):\n",
    "        print(\"Method1 override\")"
   ]
  },
  {
   "cell_type": "code",
   "execution_count": 148,
   "id": "9617f3cc-1f3d-41e9-9756-216aad192e8d",
   "metadata": {},
   "outputs": [
    {
     "name": "stdout",
     "output_type": "stream",
     "text": [
      "Class1 created\n",
      "Class2 created\n"
     ]
    }
   ],
   "source": [
    "my_instance2=Class2()"
   ]
  },
  {
   "cell_type": "code",
   "execution_count": 150,
   "id": "7d0607fa-ec89-46a2-ab62-95883da8bf32",
   "metadata": {},
   "outputs": [
    {
     "name": "stdout",
     "output_type": "stream",
     "text": [
      "Method3\n"
     ]
    }
   ],
   "source": [
    "my_instance2.method3()"
   ]
  },
  {
   "cell_type": "code",
   "execution_count": 152,
   "id": "7a4b889a-18e6-493c-9dad-c9aa07347c74",
   "metadata": {},
   "outputs": [
    {
     "name": "stdout",
     "output_type": "stream",
     "text": [
      "Method1 override\n"
     ]
    }
   ],
   "source": [
    "my_instance2.method1()"
   ]
  }
 ],
 "metadata": {
  "kernelspec": {
   "display_name": "Python [conda env:base] *",
   "language": "python",
   "name": "conda-base-py"
  },
  "language_info": {
   "codemirror_mode": {
    "name": "ipython",
    "version": 3
   },
   "file_extension": ".py",
   "mimetype": "text/x-python",
   "name": "python",
   "nbconvert_exporter": "python",
   "pygments_lexer": "ipython3",
   "version": "3.12.7"
  }
 },
 "nbformat": 4,
 "nbformat_minor": 5
}
