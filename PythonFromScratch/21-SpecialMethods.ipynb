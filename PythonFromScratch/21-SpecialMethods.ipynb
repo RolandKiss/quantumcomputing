{
 "cells": [
  {
   "cell_type": "code",
   "execution_count": 23,
   "id": "6b517376-3813-4775-945e-05a2be5d4f29",
   "metadata": {},
   "outputs": [],
   "source": [
    "class Fruits():\n",
    "\n",
    "    def __init__(self,name,calories):\n",
    "        self.name=name\n",
    "        self.calories=calories\n",
    "\n",
    "    def __str__(self):\n",
    "        return f\"{self.name} has {self.calories}\"\n",
    "\n",
    "    def __len__(self):\n",
    "        return self.calories"
   ]
  },
  {
   "cell_type": "code",
   "execution_count": 25,
   "id": "88ec9627-c86e-4887-96f0-ed399d19f8a4",
   "metadata": {},
   "outputs": [],
   "source": [
    "my_fruit=Fruits(\"Banana\",200)"
   ]
  },
  {
   "cell_type": "code",
   "execution_count": 7,
   "id": "f8b5cd07-073e-481a-959a-1bbd45f7002d",
   "metadata": {},
   "outputs": [
    {
     "data": {
      "text/plain": [
       "200"
      ]
     },
     "execution_count": 7,
     "metadata": {},
     "output_type": "execute_result"
    }
   ],
   "source": [
    "my_fruit.calories"
   ]
  },
  {
   "cell_type": "code",
   "execution_count": 9,
   "id": "4cb08b17-9d69-4ca4-8c2f-04f6b8731d4b",
   "metadata": {},
   "outputs": [
    {
     "data": {
      "text/plain": [
       "'Banana'"
      ]
     },
     "execution_count": 9,
     "metadata": {},
     "output_type": "execute_result"
    }
   ],
   "source": [
    "my_fruit.name"
   ]
  },
  {
   "cell_type": "code",
   "execution_count": 11,
   "id": "c3ad3576-3f4c-4dd1-9809-18056c9f60e2",
   "metadata": {},
   "outputs": [],
   "source": [
    "my_list=[\"a\",\"b\",3]"
   ]
  },
  {
   "cell_type": "code",
   "execution_count": 13,
   "id": "c04bcc20-ec2e-4e11-a58d-6ec66b0a3fae",
   "metadata": {},
   "outputs": [
    {
     "data": {
      "text/plain": [
       "3"
      ]
     },
     "execution_count": 13,
     "metadata": {},
     "output_type": "execute_result"
    }
   ],
   "source": [
    "len(my_list)"
   ]
  },
  {
   "cell_type": "code",
   "execution_count": 27,
   "id": "4b0ba348-ce21-43fa-ba33-b10cb7b5ea52",
   "metadata": {},
   "outputs": [
    {
     "name": "stdout",
     "output_type": "stream",
     "text": [
      "Banana has 200\n"
     ]
    }
   ],
   "source": [
    "print(my_fruit)"
   ]
  }
 ],
 "metadata": {
  "kernelspec": {
   "display_name": "Python [conda env:base] *",
   "language": "python",
   "name": "conda-base-py"
  },
  "language_info": {
   "codemirror_mode": {
    "name": "ipython",
    "version": 3
   },
   "file_extension": ".py",
   "mimetype": "text/x-python",
   "name": "python",
   "nbconvert_exporter": "python",
   "pygments_lexer": "ipython3",
   "version": "3.12.7"
  }
 },
 "nbformat": 4,
 "nbformat_minor": 5
}
