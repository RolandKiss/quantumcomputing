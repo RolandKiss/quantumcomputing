{
 "cells": [
  {
   "cell_type": "code",
   "execution_count": 1,
   "id": "5c5f8ce2-73e8-47d9-beda-3ce30625d946",
   "metadata": {},
   "outputs": [],
   "source": [
    "my_string='roland'"
   ]
  },
  {
   "cell_type": "code",
   "execution_count": 2,
   "id": "a6363b35-6902-4fd3-8c82-c53029b3f152",
   "metadata": {},
   "outputs": [
    {
     "data": {
      "text/plain": [
       "'r'"
      ]
     },
     "execution_count": 2,
     "metadata": {},
     "output_type": "execute_result"
    }
   ],
   "source": [
    "my_string[0]"
   ]
  },
  {
   "cell_type": "markdown",
   "id": "66af23c4-dd8f-417d-982b-19bb0f7c3f45",
   "metadata": {},
   "source": [
    "##Immutability"
   ]
  },
  {
   "cell_type": "code",
   "execution_count": 3,
   "id": "6c2433db-4e90-4b7e-ae9a-6ffeca9aaec3",
   "metadata": {},
   "outputs": [
    {
     "ename": "TypeError",
     "evalue": "'str' object does not support item assignment",
     "output_type": "error",
     "traceback": [
      "\u001b[1;31m---------------------------------------------------------------------------\u001b[0m",
      "\u001b[1;31mTypeError\u001b[0m                                 Traceback (most recent call last)",
      "Cell \u001b[1;32mIn[3], line 1\u001b[0m\n\u001b[1;32m----> 1\u001b[0m my_string[\u001b[38;5;241m0\u001b[39m]\u001b[38;5;241m=\u001b[39m\u001b[38;5;124m'\u001b[39m\u001b[38;5;124mB\u001b[39m\u001b[38;5;124m'\u001b[39m\n",
      "\u001b[1;31mTypeError\u001b[0m: 'str' object does not support item assignment"
     ]
    }
   ],
   "source": [
    "my_string[0]='B'"
   ]
  },
  {
   "cell_type": "code",
   "execution_count": 4,
   "id": "716edf24-d5bf-4984-bc30-d926e81c5623",
   "metadata": {},
   "outputs": [],
   "source": [
    "my_list=[1,2,3]"
   ]
  },
  {
   "cell_type": "code",
   "execution_count": 5,
   "id": "7398b600-335e-4eba-9e65-cde73e25865b",
   "metadata": {},
   "outputs": [
    {
     "data": {
      "text/plain": [
       "1"
      ]
     },
     "execution_count": 5,
     "metadata": {},
     "output_type": "execute_result"
    }
   ],
   "source": [
    "my_list[0]"
   ]
  },
  {
   "cell_type": "code",
   "execution_count": 6,
   "id": "9a83eedf-4d6f-457d-84e8-117b67910dc1",
   "metadata": {},
   "outputs": [],
   "source": [
    "my_list[0]=5"
   ]
  },
  {
   "cell_type": "code",
   "execution_count": 7,
   "id": "66b95ce5-3051-4bba-af6a-45ea6e289c00",
   "metadata": {},
   "outputs": [
    {
     "data": {
      "text/plain": [
       "[5, 2, 3]"
      ]
     },
     "execution_count": 7,
     "metadata": {},
     "output_type": "execute_result"
    }
   ],
   "source": [
    "my_list"
   ]
  },
  {
   "cell_type": "code",
   "execution_count": 8,
   "id": "c2ea9873-eec1-47f8-a127-f76f4d37b4e3",
   "metadata": {},
   "outputs": [],
   "source": [
    "my_list.append(7)"
   ]
  },
  {
   "cell_type": "code",
   "execution_count": 9,
   "id": "41b998dd-2994-4f2a-a700-519f9b1a2296",
   "metadata": {},
   "outputs": [
    {
     "data": {
      "text/plain": [
       "[5, 2, 3, 7]"
      ]
     },
     "execution_count": 9,
     "metadata": {},
     "output_type": "execute_result"
    }
   ],
   "source": [
    "my_list"
   ]
  },
  {
   "cell_type": "code",
   "execution_count": 10,
   "id": "a13a3591-7aac-4526-bb25-acb60c0f4e2c",
   "metadata": {},
   "outputs": [
    {
     "data": {
      "text/plain": [
       "'Roland'"
      ]
     },
     "execution_count": 10,
     "metadata": {},
     "output_type": "execute_result"
    }
   ],
   "source": [
    "my_string.capitalize()"
   ]
  },
  {
   "cell_type": "code",
   "execution_count": 11,
   "id": "7a7efce1-31ea-4772-bc7f-c10312204c81",
   "metadata": {},
   "outputs": [
    {
     "data": {
      "text/plain": [
       "7"
      ]
     },
     "execution_count": 11,
     "metadata": {},
     "output_type": "execute_result"
    }
   ],
   "source": [
    "my_list.pop()"
   ]
  },
  {
   "cell_type": "code",
   "execution_count": 12,
   "id": "75aeebc3-2170-4fe3-b4e0-d19820a43b4a",
   "metadata": {},
   "outputs": [
    {
     "data": {
      "text/plain": [
       "[5, 2, 3]"
      ]
     },
     "execution_count": 12,
     "metadata": {},
     "output_type": "execute_result"
    }
   ],
   "source": [
    "my_list"
   ]
  },
  {
   "cell_type": "code",
   "execution_count": 13,
   "id": "fd636034-fa0b-4a74-af17-de0cd2fc2ec5",
   "metadata": {},
   "outputs": [],
   "source": [
    "my_list_2=[1,2,\"A\",\"bhf\"]"
   ]
  },
  {
   "cell_type": "code",
   "execution_count": 14,
   "id": "3f7a3512-8396-4e24-a3cb-1766dad6dcdc",
   "metadata": {},
   "outputs": [
    {
     "data": {
      "text/plain": [
       "[1, 2, 'A', 'bhf']"
      ]
     },
     "execution_count": 14,
     "metadata": {},
     "output_type": "execute_result"
    }
   ],
   "source": [
    "my_list_2"
   ]
  },
  {
   "cell_type": "code",
   "execution_count": 15,
   "id": "63d7928b-e09a-4245-a2c6-6f21579b15e0",
   "metadata": {},
   "outputs": [],
   "source": [
    "my_list_3=[\"A\", \"B\", \"C\"]\n"
   ]
  },
  {
   "cell_type": "code",
   "execution_count": 16,
   "id": "28b55586-fc34-4377-af2c-b3acfd7b9e46",
   "metadata": {},
   "outputs": [],
   "source": [
    "my_list_4=my_list_2+my_list_3"
   ]
  },
  {
   "cell_type": "code",
   "execution_count": 17,
   "id": "07f18328-29e5-4f9a-9229-97d67943e9a9",
   "metadata": {},
   "outputs": [
    {
     "data": {
      "text/plain": [
       "[1, 2, 'A', 'bhf', 'A', 'B', 'C']"
      ]
     },
     "execution_count": 17,
     "metadata": {},
     "output_type": "execute_result"
    }
   ],
   "source": [
    "my_list_4"
   ]
  },
  {
   "cell_type": "code",
   "execution_count": 18,
   "id": "8bb1e361-d590-4fb1-945a-1d08a6e6f0f9",
   "metadata": {},
   "outputs": [
    {
     "data": {
      "text/plain": [
       "[1, 2, 'A', 'bhf', 1, 2, 'A', 'bhf', 1, 2, 'A', 'bhf']"
      ]
     },
     "execution_count": 18,
     "metadata": {},
     "output_type": "execute_result"
    }
   ],
   "source": [
    "my_list_2 * 3"
   ]
  },
  {
   "cell_type": "code",
   "execution_count": 19,
   "id": "72f8cc6f-6c92-4e3e-95d2-f8198b88871e",
   "metadata": {},
   "outputs": [],
   "source": [
    "my_list_3.reverse()"
   ]
  },
  {
   "cell_type": "code",
   "execution_count": 20,
   "id": "9ac6fb3a-61e7-4f54-88c6-da2be2ec4daf",
   "metadata": {},
   "outputs": [
    {
     "data": {
      "text/plain": [
       "['C', 'B', 'A']"
      ]
     },
     "execution_count": 20,
     "metadata": {},
     "output_type": "execute_result"
    }
   ],
   "source": [
    "my_list_3"
   ]
  },
  {
   "cell_type": "markdown",
   "id": "d9e0e310-b8ca-467f-8d13-bea1753f9f4f",
   "metadata": {},
   "source": [
    "## Nested Lists"
   ]
  },
  {
   "cell_type": "code",
   "execution_count": 21,
   "id": "92fbaf62-ad95-474e-92ab-d93f419d7bcc",
   "metadata": {},
   "outputs": [],
   "source": [
    "new_list=[1,2,\"a\"]"
   ]
  },
  {
   "cell_type": "code",
   "execution_count": 22,
   "id": "a0f0988d-2355-4dd4-8f4a-1e65eccef3c4",
   "metadata": {},
   "outputs": [],
   "source": [
    "new_list=[1,4,\"a\",[\"c\",3]]"
   ]
  },
  {
   "cell_type": "code",
   "execution_count": 23,
   "id": "665e6831-1ae4-47d0-ab05-676183a62d55",
   "metadata": {},
   "outputs": [
    {
     "data": {
      "text/plain": [
       "[1, 4, 'a', ['c', 3]]"
      ]
     },
     "execution_count": 23,
     "metadata": {},
     "output_type": "execute_result"
    }
   ],
   "source": [
    "new_list"
   ]
  },
  {
   "cell_type": "code",
   "execution_count": 24,
   "id": "b97060cc-acd8-4e50-bdce-7b69ab98b753",
   "metadata": {},
   "outputs": [
    {
     "data": {
      "text/plain": [
       "['c', 3]"
      ]
     },
     "execution_count": 24,
     "metadata": {},
     "output_type": "execute_result"
    }
   ],
   "source": [
    "new_list[3]"
   ]
  },
  {
   "cell_type": "code",
   "execution_count": 25,
   "id": "327e777a-a317-4887-bb42-6a4ef0b99441",
   "metadata": {},
   "outputs": [],
   "source": [
    "nested_list=new_list[3]"
   ]
  },
  {
   "cell_type": "code",
   "execution_count": 26,
   "id": "b039305f-5484-473b-8f54-4d0cd547b69b",
   "metadata": {},
   "outputs": [
    {
     "data": {
      "text/plain": [
       "3"
      ]
     },
     "execution_count": 26,
     "metadata": {},
     "output_type": "execute_result"
    }
   ],
   "source": [
    "nested_list[1]"
   ]
  },
  {
   "cell_type": "code",
   "execution_count": 27,
   "id": "518790d7-fc7d-4cd5-8aea-bd0cd33bbbc0",
   "metadata": {},
   "outputs": [
    {
     "data": {
      "text/plain": [
       "3"
      ]
     },
     "execution_count": 27,
     "metadata": {},
     "output_type": "execute_result"
    }
   ],
   "source": [
    "new_list[3][1]"
   ]
  },
  {
   "cell_type": "code",
   "execution_count": 28,
   "id": "e6b92179-c832-4ba6-9608-00379cc6d59f",
   "metadata": {},
   "outputs": [
    {
     "data": {
      "text/plain": [
       "['a', ['c', 3]]"
      ]
     },
     "execution_count": 28,
     "metadata": {},
     "output_type": "execute_result"
    }
   ],
   "source": [
    "new_list[2:]"
   ]
  }
 ],
 "metadata": {
  "kernelspec": {
   "display_name": "Python 3 (ipykernel)",
   "language": "python",
   "name": "python3"
  },
  "language_info": {
   "codemirror_mode": {
    "name": "ipython",
    "version": 3
   },
   "file_extension": ".py",
   "mimetype": "text/x-python",
   "name": "python",
   "nbconvert_exporter": "python",
   "pygments_lexer": "ipython3",
   "version": "3.12.7"
  }
 },
 "nbformat": 4,
 "nbformat_minor": 5
}
