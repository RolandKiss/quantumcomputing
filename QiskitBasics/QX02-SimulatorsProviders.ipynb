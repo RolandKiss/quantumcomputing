{
 "cells": [
  {
   "cell_type": "code",
   "execution_count": 25,
   "id": "fd280b49-43ad-48a7-8bb0-f93e9477a57b",
   "metadata": {},
   "outputs": [],
   "source": [
    "from qiskit import *\n",
    "from qiskit_ibm_runtime import QiskitRuntimeService"
   ]
  },
  {
   "cell_type": "code",
   "execution_count": 53,
   "id": "1cd214d4-24b8-4409-a066-1f7a97a2e120",
   "metadata": {},
   "outputs": [],
   "source": [
    "#Please save an IBMApiKey.txt file to the same folder as this notebook to enable your API Key\n",
    "token = open(\"IBMApiKey.txt\",\"r\").read()\n",
    "QiskitRuntimeService.save_account(channel=\"ibm_quantum\", token=token, overwrite=True, set_as_default=True)"
   ]
  },
  {
   "cell_type": "code",
   "execution_count": 55,
   "id": "1998e83f-50ed-45a3-a0cc-f902a781d4d2",
   "metadata": {},
   "outputs": [],
   "source": [
    "service = QiskitRuntimeService(channel=\"ibm_cloud\")"
   ]
  },
  {
   "cell_type": "code",
   "execution_count": 61,
   "id": "f7a9782b-d638-4bb7-b2a5-7de653a0a508",
   "metadata": {},
   "outputs": [],
   "source": [
    "#request temporary credentials to access the API\n",
    "\n",
    "import os\n",
    " \n",
    "import requests\n",
    " \n",
    "url = 'https://auth.quantum-computing.ibm.com/api/users/loginWithToken'\n",
    "payload = {\"apiToken\": token}\n",
    "auth_response = requests.post(url, json=payload)\n",
    "auth_id=auth_response.json()['id']"
   ]
  },
  {
   "cell_type": "code",
   "execution_count": 65,
   "id": "60aa9453-8902-438f-b4f6-76ae34135118",
   "metadata": {},
   "outputs": [
    {
     "name": "stdout",
     "output_type": "stream",
     "text": [
      "['ibm_brisbane', 'ibm_sherbrooke', 'ibm_kyiv'] ...\n"
     ]
    }
   ],
   "source": [
    "#request a list of available backends\n",
    "\n",
    "url_backends = 'https://api.quantum-computing.ibm.com/runtime/backends'\n",
    "headers = {'Content-Type': 'application/json',\n",
    "            'x-access-token':auth_id}\n",
    " \n",
    "backends_response = requests.get(url_backends, headers=headers)\n",
    " \n",
    "print(backends_response.json()['devices'][:5],\"...\")"
   ]
  },
  {
   "cell_type": "code",
   "execution_count": 81,
   "id": "c961f35c-3db9-49ed-ba6b-b9e251b28257",
   "metadata": {},
   "outputs": [
    {
     "name": "stdout",
     "output_type": "stream",
     "text": [
      "{'devices': ['ibm_brisbane', 'ibm_sherbrooke', 'ibm_kyiv']}\n"
     ]
    }
   ],
   "source": [
    "print(backends_response.json())"
   ]
  },
  {
   "cell_type": "code",
   "execution_count": null,
   "id": "a2bb3f3a-27ba-4d3e-94c3-e43d63637abe",
   "metadata": {},
   "outputs": [],
   "source": []
  }
 ],
 "metadata": {
  "kernelspec": {
   "display_name": "Python [conda env:base] *",
   "language": "python",
   "name": "conda-base-py"
  },
  "language_info": {
   "codemirror_mode": {
    "name": "ipython",
    "version": 3
   },
   "file_extension": ".py",
   "mimetype": "text/x-python",
   "name": "python",
   "nbconvert_exporter": "python",
   "pygments_lexer": "ipython3",
   "version": "3.12.7"
  }
 },
 "nbformat": 4,
 "nbformat_minor": 5
}
